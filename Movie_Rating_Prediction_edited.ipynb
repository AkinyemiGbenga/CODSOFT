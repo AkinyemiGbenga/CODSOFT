{
  "nbformat": 4,
  "nbformat_minor": 0,
  "metadata": {
    "colab": {
      "provenance": [],
      "authorship_tag": "ABX9TyN6yeTfrcwwDD25kTmEw0CM",
      "include_colab_link": true
    },
    "kernelspec": {
      "name": "python3",
      "display_name": "Python 3"
    },
    "language_info": {
      "name": "python"
    }
  },
  "cells": [
    {
      "cell_type": "markdown",
      "metadata": {
        "id": "view-in-github",
        "colab_type": "text"
      },
      "source": [
        "<a href=\"https://colab.research.google.com/github/AkinyemiGbenga/CODSOFT/blob/main/Movie_Rating_Prediction_edited.ipynb\" target=\"_parent\"><img src=\"https://colab.research.google.com/assets/colab-badge.svg\" alt=\"Open In Colab\"/></a>"
      ]
    },
    {
      "cell_type": "code",
      "execution_count": 1,
      "metadata": {
        "id": "P2Y_v9u8uuoe"
      },
      "outputs": [],
      "source": [
        "import pandas as pd\n",
        "import numpy as np\n",
        "import matplotlib.pyplot as plt\n",
        "import seaborn as sns\n",
        "import json\n",
        "import nltk\n",
        "import re\n",
        "import csv\n",
        "from tqdm import tqdm\n",
        "from sklearn.metrics import mean_squared_error\n",
        "from sklearn.preprocessing import OneHotEncoder\n",
        "from sklearn.compose import ColumnTransformer\n",
        "from sklearn.pipeline import Pipeline\n",
        "from sklearn.feature_extraction.text import TfidfVectorizer\n",
        "from sklearn.model_selection import train_test_split\n",
        "from sklearn.linear_model import LogisticRegression\n",
        "from sklearn.linear_model import LinearRegression\n",
        "from sklearn.metrics import accuracy_score\n",
        "from sklearn.preprocessing import LabelEncoder"
      ]
    },
    {
      "cell_type": "code",
      "source": [
        "# Load the movie dataset with a different encoding\n",
        "movies_data = pd.read_csv('IMDb_Movies_India.csv', encoding='latin-1')  # or encoding='ISO-8859-1'\n"
      ],
      "metadata": {
        "id": "00hCOu3D6uvY"
      },
      "execution_count": 2,
      "outputs": []
    },
    {
      "cell_type": "code",
      "source": [
        "movies_data.head()"
      ],
      "metadata": {
        "colab": {
          "base_uri": "https://localhost:8080/",
          "height": 206
        },
        "id": "i1VFM-vH_2CQ",
        "outputId": "83772f00-f77f-49db-a8b5-fe1a85c5cc53"
      },
      "execution_count": 3,
      "outputs": [
        {
          "output_type": "execute_result",
          "data": {
            "text/plain": [
              "                                 Name    Year Duration            Genre  \\\n",
              "0                                         NaN      NaN            Drama   \n",
              "1  #Gadhvi (He thought he was Gandhi)  (2019)  109 min            Drama   \n",
              "2                         #Homecoming  (2021)   90 min   Drama, Musical   \n",
              "3                             #Yaaram  (2019)  110 min  Comedy, Romance   \n",
              "4                   ...And Once Again  (2010)  105 min            Drama   \n",
              "\n",
              "   Rating Votes            Director       Actor 1             Actor 2  \\\n",
              "0     NaN   NaN       J.S. Randhawa      Manmauji              Birbal   \n",
              "1     7.0     8       Gaurav Bakshi  Rasika Dugal      Vivek Ghamande   \n",
              "2     NaN   NaN  Soumyajit Majumdar  Sayani Gupta   Plabita Borthakur   \n",
              "3     4.4    35          Ovais Khan       Prateik          Ishita Raj   \n",
              "4     NaN   NaN        Amol Palekar  Rajat Kapoor  Rituparna Sengupta   \n",
              "\n",
              "           Actor 3  \n",
              "0  Rajendra Bhatia  \n",
              "1    Arvind Jangid  \n",
              "2       Roy Angana  \n",
              "3  Siddhant Kapoor  \n",
              "4      Antara Mali  "
            ],
            "text/html": [
              "\n",
              "  <div id=\"df-fdae2455-1d75-4b90-9a4f-e87c4cf65470\" class=\"colab-df-container\">\n",
              "    <div>\n",
              "<style scoped>\n",
              "    .dataframe tbody tr th:only-of-type {\n",
              "        vertical-align: middle;\n",
              "    }\n",
              "\n",
              "    .dataframe tbody tr th {\n",
              "        vertical-align: top;\n",
              "    }\n",
              "\n",
              "    .dataframe thead th {\n",
              "        text-align: right;\n",
              "    }\n",
              "</style>\n",
              "<table border=\"1\" class=\"dataframe\">\n",
              "  <thead>\n",
              "    <tr style=\"text-align: right;\">\n",
              "      <th></th>\n",
              "      <th>Name</th>\n",
              "      <th>Year</th>\n",
              "      <th>Duration</th>\n",
              "      <th>Genre</th>\n",
              "      <th>Rating</th>\n",
              "      <th>Votes</th>\n",
              "      <th>Director</th>\n",
              "      <th>Actor 1</th>\n",
              "      <th>Actor 2</th>\n",
              "      <th>Actor 3</th>\n",
              "    </tr>\n",
              "  </thead>\n",
              "  <tbody>\n",
              "    <tr>\n",
              "      <th>0</th>\n",
              "      <td></td>\n",
              "      <td>NaN</td>\n",
              "      <td>NaN</td>\n",
              "      <td>Drama</td>\n",
              "      <td>NaN</td>\n",
              "      <td>NaN</td>\n",
              "      <td>J.S. Randhawa</td>\n",
              "      <td>Manmauji</td>\n",
              "      <td>Birbal</td>\n",
              "      <td>Rajendra Bhatia</td>\n",
              "    </tr>\n",
              "    <tr>\n",
              "      <th>1</th>\n",
              "      <td>#Gadhvi (He thought he was Gandhi)</td>\n",
              "      <td>(2019)</td>\n",
              "      <td>109 min</td>\n",
              "      <td>Drama</td>\n",
              "      <td>7.0</td>\n",
              "      <td>8</td>\n",
              "      <td>Gaurav Bakshi</td>\n",
              "      <td>Rasika Dugal</td>\n",
              "      <td>Vivek Ghamande</td>\n",
              "      <td>Arvind Jangid</td>\n",
              "    </tr>\n",
              "    <tr>\n",
              "      <th>2</th>\n",
              "      <td>#Homecoming</td>\n",
              "      <td>(2021)</td>\n",
              "      <td>90 min</td>\n",
              "      <td>Drama, Musical</td>\n",
              "      <td>NaN</td>\n",
              "      <td>NaN</td>\n",
              "      <td>Soumyajit Majumdar</td>\n",
              "      <td>Sayani Gupta</td>\n",
              "      <td>Plabita Borthakur</td>\n",
              "      <td>Roy Angana</td>\n",
              "    </tr>\n",
              "    <tr>\n",
              "      <th>3</th>\n",
              "      <td>#Yaaram</td>\n",
              "      <td>(2019)</td>\n",
              "      <td>110 min</td>\n",
              "      <td>Comedy, Romance</td>\n",
              "      <td>4.4</td>\n",
              "      <td>35</td>\n",
              "      <td>Ovais Khan</td>\n",
              "      <td>Prateik</td>\n",
              "      <td>Ishita Raj</td>\n",
              "      <td>Siddhant Kapoor</td>\n",
              "    </tr>\n",
              "    <tr>\n",
              "      <th>4</th>\n",
              "      <td>...And Once Again</td>\n",
              "      <td>(2010)</td>\n",
              "      <td>105 min</td>\n",
              "      <td>Drama</td>\n",
              "      <td>NaN</td>\n",
              "      <td>NaN</td>\n",
              "      <td>Amol Palekar</td>\n",
              "      <td>Rajat Kapoor</td>\n",
              "      <td>Rituparna Sengupta</td>\n",
              "      <td>Antara Mali</td>\n",
              "    </tr>\n",
              "  </tbody>\n",
              "</table>\n",
              "</div>\n",
              "    <div class=\"colab-df-buttons\">\n",
              "\n",
              "  <div class=\"colab-df-container\">\n",
              "    <button class=\"colab-df-convert\" onclick=\"convertToInteractive('df-fdae2455-1d75-4b90-9a4f-e87c4cf65470')\"\n",
              "            title=\"Convert this dataframe to an interactive table.\"\n",
              "            style=\"display:none;\">\n",
              "\n",
              "  <svg xmlns=\"http://www.w3.org/2000/svg\" height=\"24px\" viewBox=\"0 -960 960 960\">\n",
              "    <path d=\"M120-120v-720h720v720H120Zm60-500h600v-160H180v160Zm220 220h160v-160H400v160Zm0 220h160v-160H400v160ZM180-400h160v-160H180v160Zm440 0h160v-160H620v160ZM180-180h160v-160H180v160Zm440 0h160v-160H620v160Z\"/>\n",
              "  </svg>\n",
              "    </button>\n",
              "\n",
              "  <style>\n",
              "    .colab-df-container {\n",
              "      display:flex;\n",
              "      gap: 12px;\n",
              "    }\n",
              "\n",
              "    .colab-df-convert {\n",
              "      background-color: #E8F0FE;\n",
              "      border: none;\n",
              "      border-radius: 50%;\n",
              "      cursor: pointer;\n",
              "      display: none;\n",
              "      fill: #1967D2;\n",
              "      height: 32px;\n",
              "      padding: 0 0 0 0;\n",
              "      width: 32px;\n",
              "    }\n",
              "\n",
              "    .colab-df-convert:hover {\n",
              "      background-color: #E2EBFA;\n",
              "      box-shadow: 0px 1px 2px rgba(60, 64, 67, 0.3), 0px 1px 3px 1px rgba(60, 64, 67, 0.15);\n",
              "      fill: #174EA6;\n",
              "    }\n",
              "\n",
              "    .colab-df-buttons div {\n",
              "      margin-bottom: 4px;\n",
              "    }\n",
              "\n",
              "    [theme=dark] .colab-df-convert {\n",
              "      background-color: #3B4455;\n",
              "      fill: #D2E3FC;\n",
              "    }\n",
              "\n",
              "    [theme=dark] .colab-df-convert:hover {\n",
              "      background-color: #434B5C;\n",
              "      box-shadow: 0px 1px 3px 1px rgba(0, 0, 0, 0.15);\n",
              "      filter: drop-shadow(0px 1px 2px rgba(0, 0, 0, 0.3));\n",
              "      fill: #FFFFFF;\n",
              "    }\n",
              "  </style>\n",
              "\n",
              "    <script>\n",
              "      const buttonEl =\n",
              "        document.querySelector('#df-fdae2455-1d75-4b90-9a4f-e87c4cf65470 button.colab-df-convert');\n",
              "      buttonEl.style.display =\n",
              "        google.colab.kernel.accessAllowed ? 'block' : 'none';\n",
              "\n",
              "      async function convertToInteractive(key) {\n",
              "        const element = document.querySelector('#df-fdae2455-1d75-4b90-9a4f-e87c4cf65470');\n",
              "        const dataTable =\n",
              "          await google.colab.kernel.invokeFunction('convertToInteractive',\n",
              "                                                    [key], {});\n",
              "        if (!dataTable) return;\n",
              "\n",
              "        const docLinkHtml = 'Like what you see? Visit the ' +\n",
              "          '<a target=\"_blank\" href=https://colab.research.google.com/notebooks/data_table.ipynb>data table notebook</a>'\n",
              "          + ' to learn more about interactive tables.';\n",
              "        element.innerHTML = '';\n",
              "        dataTable['output_type'] = 'display_data';\n",
              "        await google.colab.output.renderOutput(dataTable, element);\n",
              "        const docLink = document.createElement('div');\n",
              "        docLink.innerHTML = docLinkHtml;\n",
              "        element.appendChild(docLink);\n",
              "      }\n",
              "    </script>\n",
              "  </div>\n",
              "\n",
              "\n",
              "<div id=\"df-1d2b162e-1f89-4cea-8a58-8132a908a348\">\n",
              "  <button class=\"colab-df-quickchart\" onclick=\"quickchart('df-1d2b162e-1f89-4cea-8a58-8132a908a348')\"\n",
              "            title=\"Suggest charts\"\n",
              "            style=\"display:none;\">\n",
              "\n",
              "<svg xmlns=\"http://www.w3.org/2000/svg\" height=\"24px\"viewBox=\"0 0 24 24\"\n",
              "     width=\"24px\">\n",
              "    <g>\n",
              "        <path d=\"M19 3H5c-1.1 0-2 .9-2 2v14c0 1.1.9 2 2 2h14c1.1 0 2-.9 2-2V5c0-1.1-.9-2-2-2zM9 17H7v-7h2v7zm4 0h-2V7h2v10zm4 0h-2v-4h2v4z\"/>\n",
              "    </g>\n",
              "</svg>\n",
              "  </button>\n",
              "\n",
              "<style>\n",
              "  .colab-df-quickchart {\n",
              "      --bg-color: #E8F0FE;\n",
              "      --fill-color: #1967D2;\n",
              "      --hover-bg-color: #E2EBFA;\n",
              "      --hover-fill-color: #174EA6;\n",
              "      --disabled-fill-color: #AAA;\n",
              "      --disabled-bg-color: #DDD;\n",
              "  }\n",
              "\n",
              "  [theme=dark] .colab-df-quickchart {\n",
              "      --bg-color: #3B4455;\n",
              "      --fill-color: #D2E3FC;\n",
              "      --hover-bg-color: #434B5C;\n",
              "      --hover-fill-color: #FFFFFF;\n",
              "      --disabled-bg-color: #3B4455;\n",
              "      --disabled-fill-color: #666;\n",
              "  }\n",
              "\n",
              "  .colab-df-quickchart {\n",
              "    background-color: var(--bg-color);\n",
              "    border: none;\n",
              "    border-radius: 50%;\n",
              "    cursor: pointer;\n",
              "    display: none;\n",
              "    fill: var(--fill-color);\n",
              "    height: 32px;\n",
              "    padding: 0;\n",
              "    width: 32px;\n",
              "  }\n",
              "\n",
              "  .colab-df-quickchart:hover {\n",
              "    background-color: var(--hover-bg-color);\n",
              "    box-shadow: 0 1px 2px rgba(60, 64, 67, 0.3), 0 1px 3px 1px rgba(60, 64, 67, 0.15);\n",
              "    fill: var(--button-hover-fill-color);\n",
              "  }\n",
              "\n",
              "  .colab-df-quickchart-complete:disabled,\n",
              "  .colab-df-quickchart-complete:disabled:hover {\n",
              "    background-color: var(--disabled-bg-color);\n",
              "    fill: var(--disabled-fill-color);\n",
              "    box-shadow: none;\n",
              "  }\n",
              "\n",
              "  .colab-df-spinner {\n",
              "    border: 2px solid var(--fill-color);\n",
              "    border-color: transparent;\n",
              "    border-bottom-color: var(--fill-color);\n",
              "    animation:\n",
              "      spin 1s steps(1) infinite;\n",
              "  }\n",
              "\n",
              "  @keyframes spin {\n",
              "    0% {\n",
              "      border-color: transparent;\n",
              "      border-bottom-color: var(--fill-color);\n",
              "      border-left-color: var(--fill-color);\n",
              "    }\n",
              "    20% {\n",
              "      border-color: transparent;\n",
              "      border-left-color: var(--fill-color);\n",
              "      border-top-color: var(--fill-color);\n",
              "    }\n",
              "    30% {\n",
              "      border-color: transparent;\n",
              "      border-left-color: var(--fill-color);\n",
              "      border-top-color: var(--fill-color);\n",
              "      border-right-color: var(--fill-color);\n",
              "    }\n",
              "    40% {\n",
              "      border-color: transparent;\n",
              "      border-right-color: var(--fill-color);\n",
              "      border-top-color: var(--fill-color);\n",
              "    }\n",
              "    60% {\n",
              "      border-color: transparent;\n",
              "      border-right-color: var(--fill-color);\n",
              "    }\n",
              "    80% {\n",
              "      border-color: transparent;\n",
              "      border-right-color: var(--fill-color);\n",
              "      border-bottom-color: var(--fill-color);\n",
              "    }\n",
              "    90% {\n",
              "      border-color: transparent;\n",
              "      border-bottom-color: var(--fill-color);\n",
              "    }\n",
              "  }\n",
              "</style>\n",
              "\n",
              "  <script>\n",
              "    async function quickchart(key) {\n",
              "      const quickchartButtonEl =\n",
              "        document.querySelector('#' + key + ' button');\n",
              "      quickchartButtonEl.disabled = true;  // To prevent multiple clicks.\n",
              "      quickchartButtonEl.classList.add('colab-df-spinner');\n",
              "      try {\n",
              "        const charts = await google.colab.kernel.invokeFunction(\n",
              "            'suggestCharts', [key], {});\n",
              "      } catch (error) {\n",
              "        console.error('Error during call to suggestCharts:', error);\n",
              "      }\n",
              "      quickchartButtonEl.classList.remove('colab-df-spinner');\n",
              "      quickchartButtonEl.classList.add('colab-df-quickchart-complete');\n",
              "    }\n",
              "    (() => {\n",
              "      let quickchartButtonEl =\n",
              "        document.querySelector('#df-1d2b162e-1f89-4cea-8a58-8132a908a348 button');\n",
              "      quickchartButtonEl.style.display =\n",
              "        google.colab.kernel.accessAllowed ? 'block' : 'none';\n",
              "    })();\n",
              "  </script>\n",
              "</div>\n",
              "\n",
              "    </div>\n",
              "  </div>\n"
            ]
          },
          "metadata": {},
          "execution_count": 3
        }
      ]
    },
    {
      "cell_type": "code",
      "source": [
        "movies_data.shape"
      ],
      "metadata": {
        "colab": {
          "base_uri": "https://localhost:8080/"
        },
        "id": "SSb-o4rtAJe8",
        "outputId": "ab9f65b5-c3a2-49e3-9d5b-41cf0d32fb04"
      },
      "execution_count": 4,
      "outputs": [
        {
          "output_type": "execute_result",
          "data": {
            "text/plain": [
              "(15509, 10)"
            ]
          },
          "metadata": {},
          "execution_count": 4
        }
      ]
    },
    {
      "cell_type": "code",
      "source": [
        "movies_data.info()"
      ],
      "metadata": {
        "colab": {
          "base_uri": "https://localhost:8080/"
        },
        "id": "RAwl28JBOK31",
        "outputId": "67db1806-9ef9-425c-89ad-81efa41046ea"
      },
      "execution_count": 5,
      "outputs": [
        {
          "output_type": "stream",
          "name": "stdout",
          "text": [
            "<class 'pandas.core.frame.DataFrame'>\n",
            "RangeIndex: 15509 entries, 0 to 15508\n",
            "Data columns (total 10 columns):\n",
            " #   Column    Non-Null Count  Dtype  \n",
            "---  ------    --------------  -----  \n",
            " 0   Name      15509 non-null  object \n",
            " 1   Year      14981 non-null  object \n",
            " 2   Duration  7240 non-null   object \n",
            " 3   Genre     13632 non-null  object \n",
            " 4   Rating    7919 non-null   float64\n",
            " 5   Votes     7920 non-null   object \n",
            " 6   Director  14984 non-null  object \n",
            " 7   Actor 1   13892 non-null  object \n",
            " 8   Actor 2   13125 non-null  object \n",
            " 9   Actor 3   12365 non-null  object \n",
            "dtypes: float64(1), object(9)\n",
            "memory usage: 1.2+ MB\n"
          ]
        }
      ]
    },
    {
      "cell_type": "code",
      "source": [
        "# check for missing values\n",
        "movies_data.isnull().sum()"
      ],
      "metadata": {
        "colab": {
          "base_uri": "https://localhost:8080/"
        },
        "id": "H1vdP4txOS23",
        "outputId": "cf2c325c-8bbd-4463-a075-ae6c6becf484"
      },
      "execution_count": 6,
      "outputs": [
        {
          "output_type": "execute_result",
          "data": {
            "text/plain": [
              "Name           0\n",
              "Year         528\n",
              "Duration    8269\n",
              "Genre       1877\n",
              "Rating      7590\n",
              "Votes       7589\n",
              "Director     525\n",
              "Actor 1     1617\n",
              "Actor 2     2384\n",
              "Actor 3     3144\n",
              "dtype: int64"
            ]
          },
          "metadata": {},
          "execution_count": 6
        }
      ]
    },
    {
      "cell_type": "code",
      "source": [
        "movies_data.head(10)"
      ],
      "metadata": {
        "colab": {
          "base_uri": "https://localhost:8080/",
          "height": 363
        },
        "id": "q9uZEJlmPps7",
        "outputId": "57514ca8-4357-4c7a-dbda-b53ea4da2cd8"
      },
      "execution_count": 7,
      "outputs": [
        {
          "output_type": "execute_result",
          "data": {
            "text/plain": [
              "                                 Name    Year Duration  \\\n",
              "0                                         NaN      NaN   \n",
              "1  #Gadhvi (He thought he was Gandhi)  (2019)  109 min   \n",
              "2                         #Homecoming  (2021)   90 min   \n",
              "3                             #Yaaram  (2019)  110 min   \n",
              "4                   ...And Once Again  (2010)  105 min   \n",
              "5                ...Aur Pyaar Ho Gaya  (1997)  147 min   \n",
              "6                           ...Yahaan  (2005)  142 min   \n",
              "7                      .in for Motion  (2008)   59 min   \n",
              "8                  ?: A Question Mark  (2012)   82 min   \n",
              "9                            @Andheri  (2014)  116 min   \n",
              "\n",
              "                       Genre  Rating  Votes            Director  \\\n",
              "0                      Drama     NaN    NaN       J.S. Randhawa   \n",
              "1                      Drama     7.0      8       Gaurav Bakshi   \n",
              "2             Drama, Musical     NaN    NaN  Soumyajit Majumdar   \n",
              "3            Comedy, Romance     4.4     35          Ovais Khan   \n",
              "4                      Drama     NaN    NaN        Amol Palekar   \n",
              "5     Comedy, Drama, Musical     4.7    827        Rahul Rawail   \n",
              "6        Drama, Romance, War     7.4  1,086      Shoojit Sircar   \n",
              "7                Documentary     NaN    NaN       Anirban Datta   \n",
              "8  Horror, Mystery, Thriller     5.6    326       Allyson Patel   \n",
              "9    Action, Crime, Thriller     4.0     11   Biju Bhaskar Nair   \n",
              "\n",
              "           Actor 1                 Actor 2          Actor 3  \n",
              "0         Manmauji                  Birbal  Rajendra Bhatia  \n",
              "1     Rasika Dugal          Vivek Ghamande    Arvind Jangid  \n",
              "2     Sayani Gupta       Plabita Borthakur       Roy Angana  \n",
              "3          Prateik              Ishita Raj  Siddhant Kapoor  \n",
              "4     Rajat Kapoor      Rituparna Sengupta      Antara Mali  \n",
              "5       Bobby Deol  Aishwarya Rai Bachchan    Shammi Kapoor  \n",
              "6  Jimmy Sheirgill          Minissha Lamba   Yashpal Sharma  \n",
              "7              NaN                     NaN              NaN  \n",
              "8        Yash Dave          Muntazir Ahmad     Kiran Bhatia  \n",
              "9        Augustine            Fathima Babu             Byon  "
            ],
            "text/html": [
              "\n",
              "  <div id=\"df-21c25110-b07a-4bd4-ba9e-65be96ebc539\" class=\"colab-df-container\">\n",
              "    <div>\n",
              "<style scoped>\n",
              "    .dataframe tbody tr th:only-of-type {\n",
              "        vertical-align: middle;\n",
              "    }\n",
              "\n",
              "    .dataframe tbody tr th {\n",
              "        vertical-align: top;\n",
              "    }\n",
              "\n",
              "    .dataframe thead th {\n",
              "        text-align: right;\n",
              "    }\n",
              "</style>\n",
              "<table border=\"1\" class=\"dataframe\">\n",
              "  <thead>\n",
              "    <tr style=\"text-align: right;\">\n",
              "      <th></th>\n",
              "      <th>Name</th>\n",
              "      <th>Year</th>\n",
              "      <th>Duration</th>\n",
              "      <th>Genre</th>\n",
              "      <th>Rating</th>\n",
              "      <th>Votes</th>\n",
              "      <th>Director</th>\n",
              "      <th>Actor 1</th>\n",
              "      <th>Actor 2</th>\n",
              "      <th>Actor 3</th>\n",
              "    </tr>\n",
              "  </thead>\n",
              "  <tbody>\n",
              "    <tr>\n",
              "      <th>0</th>\n",
              "      <td></td>\n",
              "      <td>NaN</td>\n",
              "      <td>NaN</td>\n",
              "      <td>Drama</td>\n",
              "      <td>NaN</td>\n",
              "      <td>NaN</td>\n",
              "      <td>J.S. Randhawa</td>\n",
              "      <td>Manmauji</td>\n",
              "      <td>Birbal</td>\n",
              "      <td>Rajendra Bhatia</td>\n",
              "    </tr>\n",
              "    <tr>\n",
              "      <th>1</th>\n",
              "      <td>#Gadhvi (He thought he was Gandhi)</td>\n",
              "      <td>(2019)</td>\n",
              "      <td>109 min</td>\n",
              "      <td>Drama</td>\n",
              "      <td>7.0</td>\n",
              "      <td>8</td>\n",
              "      <td>Gaurav Bakshi</td>\n",
              "      <td>Rasika Dugal</td>\n",
              "      <td>Vivek Ghamande</td>\n",
              "      <td>Arvind Jangid</td>\n",
              "    </tr>\n",
              "    <tr>\n",
              "      <th>2</th>\n",
              "      <td>#Homecoming</td>\n",
              "      <td>(2021)</td>\n",
              "      <td>90 min</td>\n",
              "      <td>Drama, Musical</td>\n",
              "      <td>NaN</td>\n",
              "      <td>NaN</td>\n",
              "      <td>Soumyajit Majumdar</td>\n",
              "      <td>Sayani Gupta</td>\n",
              "      <td>Plabita Borthakur</td>\n",
              "      <td>Roy Angana</td>\n",
              "    </tr>\n",
              "    <tr>\n",
              "      <th>3</th>\n",
              "      <td>#Yaaram</td>\n",
              "      <td>(2019)</td>\n",
              "      <td>110 min</td>\n",
              "      <td>Comedy, Romance</td>\n",
              "      <td>4.4</td>\n",
              "      <td>35</td>\n",
              "      <td>Ovais Khan</td>\n",
              "      <td>Prateik</td>\n",
              "      <td>Ishita Raj</td>\n",
              "      <td>Siddhant Kapoor</td>\n",
              "    </tr>\n",
              "    <tr>\n",
              "      <th>4</th>\n",
              "      <td>...And Once Again</td>\n",
              "      <td>(2010)</td>\n",
              "      <td>105 min</td>\n",
              "      <td>Drama</td>\n",
              "      <td>NaN</td>\n",
              "      <td>NaN</td>\n",
              "      <td>Amol Palekar</td>\n",
              "      <td>Rajat Kapoor</td>\n",
              "      <td>Rituparna Sengupta</td>\n",
              "      <td>Antara Mali</td>\n",
              "    </tr>\n",
              "    <tr>\n",
              "      <th>5</th>\n",
              "      <td>...Aur Pyaar Ho Gaya</td>\n",
              "      <td>(1997)</td>\n",
              "      <td>147 min</td>\n",
              "      <td>Comedy, Drama, Musical</td>\n",
              "      <td>4.7</td>\n",
              "      <td>827</td>\n",
              "      <td>Rahul Rawail</td>\n",
              "      <td>Bobby Deol</td>\n",
              "      <td>Aishwarya Rai Bachchan</td>\n",
              "      <td>Shammi Kapoor</td>\n",
              "    </tr>\n",
              "    <tr>\n",
              "      <th>6</th>\n",
              "      <td>...Yahaan</td>\n",
              "      <td>(2005)</td>\n",
              "      <td>142 min</td>\n",
              "      <td>Drama, Romance, War</td>\n",
              "      <td>7.4</td>\n",
              "      <td>1,086</td>\n",
              "      <td>Shoojit Sircar</td>\n",
              "      <td>Jimmy Sheirgill</td>\n",
              "      <td>Minissha Lamba</td>\n",
              "      <td>Yashpal Sharma</td>\n",
              "    </tr>\n",
              "    <tr>\n",
              "      <th>7</th>\n",
              "      <td>.in for Motion</td>\n",
              "      <td>(2008)</td>\n",
              "      <td>59 min</td>\n",
              "      <td>Documentary</td>\n",
              "      <td>NaN</td>\n",
              "      <td>NaN</td>\n",
              "      <td>Anirban Datta</td>\n",
              "      <td>NaN</td>\n",
              "      <td>NaN</td>\n",
              "      <td>NaN</td>\n",
              "    </tr>\n",
              "    <tr>\n",
              "      <th>8</th>\n",
              "      <td>?: A Question Mark</td>\n",
              "      <td>(2012)</td>\n",
              "      <td>82 min</td>\n",
              "      <td>Horror, Mystery, Thriller</td>\n",
              "      <td>5.6</td>\n",
              "      <td>326</td>\n",
              "      <td>Allyson Patel</td>\n",
              "      <td>Yash Dave</td>\n",
              "      <td>Muntazir Ahmad</td>\n",
              "      <td>Kiran Bhatia</td>\n",
              "    </tr>\n",
              "    <tr>\n",
              "      <th>9</th>\n",
              "      <td>@Andheri</td>\n",
              "      <td>(2014)</td>\n",
              "      <td>116 min</td>\n",
              "      <td>Action, Crime, Thriller</td>\n",
              "      <td>4.0</td>\n",
              "      <td>11</td>\n",
              "      <td>Biju Bhaskar Nair</td>\n",
              "      <td>Augustine</td>\n",
              "      <td>Fathima Babu</td>\n",
              "      <td>Byon</td>\n",
              "    </tr>\n",
              "  </tbody>\n",
              "</table>\n",
              "</div>\n",
              "    <div class=\"colab-df-buttons\">\n",
              "\n",
              "  <div class=\"colab-df-container\">\n",
              "    <button class=\"colab-df-convert\" onclick=\"convertToInteractive('df-21c25110-b07a-4bd4-ba9e-65be96ebc539')\"\n",
              "            title=\"Convert this dataframe to an interactive table.\"\n",
              "            style=\"display:none;\">\n",
              "\n",
              "  <svg xmlns=\"http://www.w3.org/2000/svg\" height=\"24px\" viewBox=\"0 -960 960 960\">\n",
              "    <path d=\"M120-120v-720h720v720H120Zm60-500h600v-160H180v160Zm220 220h160v-160H400v160Zm0 220h160v-160H400v160ZM180-400h160v-160H180v160Zm440 0h160v-160H620v160ZM180-180h160v-160H180v160Zm440 0h160v-160H620v160Z\"/>\n",
              "  </svg>\n",
              "    </button>\n",
              "\n",
              "  <style>\n",
              "    .colab-df-container {\n",
              "      display:flex;\n",
              "      gap: 12px;\n",
              "    }\n",
              "\n",
              "    .colab-df-convert {\n",
              "      background-color: #E8F0FE;\n",
              "      border: none;\n",
              "      border-radius: 50%;\n",
              "      cursor: pointer;\n",
              "      display: none;\n",
              "      fill: #1967D2;\n",
              "      height: 32px;\n",
              "      padding: 0 0 0 0;\n",
              "      width: 32px;\n",
              "    }\n",
              "\n",
              "    .colab-df-convert:hover {\n",
              "      background-color: #E2EBFA;\n",
              "      box-shadow: 0px 1px 2px rgba(60, 64, 67, 0.3), 0px 1px 3px 1px rgba(60, 64, 67, 0.15);\n",
              "      fill: #174EA6;\n",
              "    }\n",
              "\n",
              "    .colab-df-buttons div {\n",
              "      margin-bottom: 4px;\n",
              "    }\n",
              "\n",
              "    [theme=dark] .colab-df-convert {\n",
              "      background-color: #3B4455;\n",
              "      fill: #D2E3FC;\n",
              "    }\n",
              "\n",
              "    [theme=dark] .colab-df-convert:hover {\n",
              "      background-color: #434B5C;\n",
              "      box-shadow: 0px 1px 3px 1px rgba(0, 0, 0, 0.15);\n",
              "      filter: drop-shadow(0px 1px 2px rgba(0, 0, 0, 0.3));\n",
              "      fill: #FFFFFF;\n",
              "    }\n",
              "  </style>\n",
              "\n",
              "    <script>\n",
              "      const buttonEl =\n",
              "        document.querySelector('#df-21c25110-b07a-4bd4-ba9e-65be96ebc539 button.colab-df-convert');\n",
              "      buttonEl.style.display =\n",
              "        google.colab.kernel.accessAllowed ? 'block' : 'none';\n",
              "\n",
              "      async function convertToInteractive(key) {\n",
              "        const element = document.querySelector('#df-21c25110-b07a-4bd4-ba9e-65be96ebc539');\n",
              "        const dataTable =\n",
              "          await google.colab.kernel.invokeFunction('convertToInteractive',\n",
              "                                                    [key], {});\n",
              "        if (!dataTable) return;\n",
              "\n",
              "        const docLinkHtml = 'Like what you see? Visit the ' +\n",
              "          '<a target=\"_blank\" href=https://colab.research.google.com/notebooks/data_table.ipynb>data table notebook</a>'\n",
              "          + ' to learn more about interactive tables.';\n",
              "        element.innerHTML = '';\n",
              "        dataTable['output_type'] = 'display_data';\n",
              "        await google.colab.output.renderOutput(dataTable, element);\n",
              "        const docLink = document.createElement('div');\n",
              "        docLink.innerHTML = docLinkHtml;\n",
              "        element.appendChild(docLink);\n",
              "      }\n",
              "    </script>\n",
              "  </div>\n",
              "\n",
              "\n",
              "<div id=\"df-ddce296a-7daf-4caa-b5a6-6a5320ea8535\">\n",
              "  <button class=\"colab-df-quickchart\" onclick=\"quickchart('df-ddce296a-7daf-4caa-b5a6-6a5320ea8535')\"\n",
              "            title=\"Suggest charts\"\n",
              "            style=\"display:none;\">\n",
              "\n",
              "<svg xmlns=\"http://www.w3.org/2000/svg\" height=\"24px\"viewBox=\"0 0 24 24\"\n",
              "     width=\"24px\">\n",
              "    <g>\n",
              "        <path d=\"M19 3H5c-1.1 0-2 .9-2 2v14c0 1.1.9 2 2 2h14c1.1 0 2-.9 2-2V5c0-1.1-.9-2-2-2zM9 17H7v-7h2v7zm4 0h-2V7h2v10zm4 0h-2v-4h2v4z\"/>\n",
              "    </g>\n",
              "</svg>\n",
              "  </button>\n",
              "\n",
              "<style>\n",
              "  .colab-df-quickchart {\n",
              "      --bg-color: #E8F0FE;\n",
              "      --fill-color: #1967D2;\n",
              "      --hover-bg-color: #E2EBFA;\n",
              "      --hover-fill-color: #174EA6;\n",
              "      --disabled-fill-color: #AAA;\n",
              "      --disabled-bg-color: #DDD;\n",
              "  }\n",
              "\n",
              "  [theme=dark] .colab-df-quickchart {\n",
              "      --bg-color: #3B4455;\n",
              "      --fill-color: #D2E3FC;\n",
              "      --hover-bg-color: #434B5C;\n",
              "      --hover-fill-color: #FFFFFF;\n",
              "      --disabled-bg-color: #3B4455;\n",
              "      --disabled-fill-color: #666;\n",
              "  }\n",
              "\n",
              "  .colab-df-quickchart {\n",
              "    background-color: var(--bg-color);\n",
              "    border: none;\n",
              "    border-radius: 50%;\n",
              "    cursor: pointer;\n",
              "    display: none;\n",
              "    fill: var(--fill-color);\n",
              "    height: 32px;\n",
              "    padding: 0;\n",
              "    width: 32px;\n",
              "  }\n",
              "\n",
              "  .colab-df-quickchart:hover {\n",
              "    background-color: var(--hover-bg-color);\n",
              "    box-shadow: 0 1px 2px rgba(60, 64, 67, 0.3), 0 1px 3px 1px rgba(60, 64, 67, 0.15);\n",
              "    fill: var(--button-hover-fill-color);\n",
              "  }\n",
              "\n",
              "  .colab-df-quickchart-complete:disabled,\n",
              "  .colab-df-quickchart-complete:disabled:hover {\n",
              "    background-color: var(--disabled-bg-color);\n",
              "    fill: var(--disabled-fill-color);\n",
              "    box-shadow: none;\n",
              "  }\n",
              "\n",
              "  .colab-df-spinner {\n",
              "    border: 2px solid var(--fill-color);\n",
              "    border-color: transparent;\n",
              "    border-bottom-color: var(--fill-color);\n",
              "    animation:\n",
              "      spin 1s steps(1) infinite;\n",
              "  }\n",
              "\n",
              "  @keyframes spin {\n",
              "    0% {\n",
              "      border-color: transparent;\n",
              "      border-bottom-color: var(--fill-color);\n",
              "      border-left-color: var(--fill-color);\n",
              "    }\n",
              "    20% {\n",
              "      border-color: transparent;\n",
              "      border-left-color: var(--fill-color);\n",
              "      border-top-color: var(--fill-color);\n",
              "    }\n",
              "    30% {\n",
              "      border-color: transparent;\n",
              "      border-left-color: var(--fill-color);\n",
              "      border-top-color: var(--fill-color);\n",
              "      border-right-color: var(--fill-color);\n",
              "    }\n",
              "    40% {\n",
              "      border-color: transparent;\n",
              "      border-right-color: var(--fill-color);\n",
              "      border-top-color: var(--fill-color);\n",
              "    }\n",
              "    60% {\n",
              "      border-color: transparent;\n",
              "      border-right-color: var(--fill-color);\n",
              "    }\n",
              "    80% {\n",
              "      border-color: transparent;\n",
              "      border-right-color: var(--fill-color);\n",
              "      border-bottom-color: var(--fill-color);\n",
              "    }\n",
              "    90% {\n",
              "      border-color: transparent;\n",
              "      border-bottom-color: var(--fill-color);\n",
              "    }\n",
              "  }\n",
              "</style>\n",
              "\n",
              "  <script>\n",
              "    async function quickchart(key) {\n",
              "      const quickchartButtonEl =\n",
              "        document.querySelector('#' + key + ' button');\n",
              "      quickchartButtonEl.disabled = true;  // To prevent multiple clicks.\n",
              "      quickchartButtonEl.classList.add('colab-df-spinner');\n",
              "      try {\n",
              "        const charts = await google.colab.kernel.invokeFunction(\n",
              "            'suggestCharts', [key], {});\n",
              "      } catch (error) {\n",
              "        console.error('Error during call to suggestCharts:', error);\n",
              "      }\n",
              "      quickchartButtonEl.classList.remove('colab-df-spinner');\n",
              "      quickchartButtonEl.classList.add('colab-df-quickchart-complete');\n",
              "    }\n",
              "    (() => {\n",
              "      let quickchartButtonEl =\n",
              "        document.querySelector('#df-ddce296a-7daf-4caa-b5a6-6a5320ea8535 button');\n",
              "      quickchartButtonEl.style.display =\n",
              "        google.colab.kernel.accessAllowed ? 'block' : 'none';\n",
              "    })();\n",
              "  </script>\n",
              "</div>\n",
              "\n",
              "    </div>\n",
              "  </div>\n"
            ]
          },
          "metadata": {},
          "execution_count": 7
        }
      ]
    },
    {
      "cell_type": "code",
      "source": [
        "# replacing the missing values in the 'Year' column with the year that has most movies produced(mode) value of the Year\n",
        "movies_data['Year'].fillna(movies_data['Year'].mode()[0], inplace=True)"
      ],
      "metadata": {
        "id": "qdNXWVdXQA3-"
      },
      "execution_count": 8,
      "outputs": []
    },
    {
      "cell_type": "code",
      "source": [
        "# replacing the missing values in the 'Duration' column with the most frequent duration (mode) in the column\n",
        "movies_data['Duration'].fillna(movies_data['Duration'].mode()[0], inplace=True)"
      ],
      "metadata": {
        "id": "oiDglw2Q2M4X"
      },
      "execution_count": 9,
      "outputs": []
    },
    {
      "cell_type": "code",
      "source": [
        "# replacing the missing values in the 'Genre' column with the most frequent Genre (mode) in the column\n",
        "movies_data['Genre'].fillna(movies_data['Genre'].mode()[0], inplace=True)"
      ],
      "metadata": {
        "id": "cbzRVN0K3U0u"
      },
      "execution_count": 10,
      "outputs": []
    },
    {
      "cell_type": "code",
      "source": [
        "# replacing the missing values in the 'Rating' column with the average Rating (mean)\n",
        "movies_data['Rating'].fillna(movies_data['Rating'].mean(), inplace=True)"
      ],
      "metadata": {
        "id": "QCnNtNne35El"
      },
      "execution_count": 11,
      "outputs": []
    },
    {
      "cell_type": "code",
      "source": [
        "# replacing the missing values in the 'Votes' column with the most number of Votes\n",
        "movies_data['Votes'].fillna(movies_data['Votes'].mode()[0], inplace=True)"
      ],
      "metadata": {
        "id": "Hl8vah3qD9sP"
      },
      "execution_count": 12,
      "outputs": []
    },
    {
      "cell_type": "code",
      "source": [
        "# replacing the missing values in the 'Director' column with the most mentioned Director in the column\n",
        "movies_data['Director'].fillna(movies_data['Director'].mode()[0], inplace=True)"
      ],
      "metadata": {
        "id": "7aVXLSEfFhA1"
      },
      "execution_count": 13,
      "outputs": []
    },
    {
      "cell_type": "code",
      "source": [
        "# replacing the missing values in the 'Actor 1' column with the most mentioned Actor 1 in the column\n",
        "movies_data['Actor 1'].fillna(movies_data['Director'].mode()[0], inplace=True)"
      ],
      "metadata": {
        "id": "JVSy4ZwEJTxb"
      },
      "execution_count": 14,
      "outputs": []
    },
    {
      "cell_type": "code",
      "source": [
        "# replacing the missing values in the 'Actor 2' column with the most mentioned Actor 2 in the column\n",
        "movies_data['Actor 2'].fillna(movies_data['Actor 2'].mode()[0], inplace=True)"
      ],
      "metadata": {
        "id": "XmsWqgGpJTcb"
      },
      "execution_count": 15,
      "outputs": []
    },
    {
      "cell_type": "code",
      "source": [
        "# replacing the missing values in the 'Actor 3' column with the most mentioned Actor 3 in the column\n",
        "movies_data['Actor 3'].fillna(movies_data['Actor 3'].mode()[0], inplace=True)"
      ],
      "metadata": {
        "id": "0NdB4q0EI30C"
      },
      "execution_count": 16,
      "outputs": []
    },
    {
      "cell_type": "code",
      "source": [
        "# check for missing values\n",
        "movies_data.isnull().sum()"
      ],
      "metadata": {
        "colab": {
          "base_uri": "https://localhost:8080/"
        },
        "id": "8jcomJmTKCCw",
        "outputId": "f7f7cd3d-ab19-4f26-9a8f-d0687484124f"
      },
      "execution_count": 17,
      "outputs": [
        {
          "output_type": "execute_result",
          "data": {
            "text/plain": [
              "Name        0\n",
              "Year        0\n",
              "Duration    0\n",
              "Genre       0\n",
              "Rating      0\n",
              "Votes       0\n",
              "Director    0\n",
              "Actor 1     0\n",
              "Actor 2     0\n",
              "Actor 3     0\n",
              "dtype: int64"
            ]
          },
          "metadata": {},
          "execution_count": 17
        }
      ]
    },
    {
      "cell_type": "code",
      "source": [
        "movies_data['Actor 1'].value_counts()"
      ],
      "metadata": {
        "colab": {
          "base_uri": "https://localhost:8080/"
        },
        "id": "qn9P7VwY6Wgk",
        "outputId": "35b46993-636c-4603-b22e-8bd1bbb272bb"
      },
      "execution_count": 18,
      "outputs": [
        {
          "output_type": "execute_result",
          "data": {
            "text/plain": [
              "Jayant Desai            1617\n",
              "Ashok Kumar              158\n",
              "Jeetendra                140\n",
              "Dharmendra               140\n",
              "Mithun Chakraborty       133\n",
              "                        ... \n",
              "Abhinav Kumar              1\n",
              "Shibani Bhattacharya       1\n",
              "Kavita Kapoor              1\n",
              "Awdhesh Mishra             1\n",
              "Sangeeta Tiwari            1\n",
              "Name: Actor 1, Length: 4719, dtype: int64"
            ]
          },
          "metadata": {},
          "execution_count": 18
        }
      ]
    },
    {
      "cell_type": "code",
      "source": [
        "movies_data['Actor 1'].unique()"
      ],
      "metadata": {
        "colab": {
          "base_uri": "https://localhost:8080/"
        },
        "id": "FDj5pp-2LHVk",
        "outputId": "3b818798-3c34-4d3c-df80-ddb940473492"
      },
      "execution_count": 19,
      "outputs": [
        {
          "output_type": "execute_result",
          "data": {
            "text/plain": [
              "array(['Manmauji', 'Rasika Dugal', 'Sayani Gupta', ..., 'Meghan Jadhav',\n",
              "       'Roohi Berde', 'Sangeeta Tiwari'], dtype=object)"
            ]
          },
          "metadata": {},
          "execution_count": 19
        }
      ]
    },
    {
      "cell_type": "code",
      "source": [
        "movies_data['Actor 1'].value_counts().head(10)"
      ],
      "metadata": {
        "colab": {
          "base_uri": "https://localhost:8080/"
        },
        "id": "Y_4mW5dzI7aN",
        "outputId": "1682a08b-c6a2-40e8-9acd-12eedf59dbb9"
      },
      "execution_count": 20,
      "outputs": [
        {
          "output_type": "execute_result",
          "data": {
            "text/plain": [
              "Jayant Desai          1617\n",
              "Ashok Kumar            158\n",
              "Jeetendra              140\n",
              "Dharmendra             140\n",
              "Mithun Chakraborty     133\n",
              "Amitabh Bachchan       129\n",
              "Rajesh Khanna          122\n",
              "Dev Anand               93\n",
              "Shashi Kapoor           91\n",
              "Akshay Kumar            88\n",
              "Name: Actor 1, dtype: int64"
            ]
          },
          "metadata": {},
          "execution_count": 20
        }
      ]
    },
    {
      "cell_type": "code",
      "source": [
        "movies_data['Actor 2'].value_counts()"
      ],
      "metadata": {
        "colab": {
          "base_uri": "https://localhost:8080/"
        },
        "id": "PlgcOXvsKn-Z",
        "outputId": "71315a75-ceb1-4454-d484-0ce941a28e27"
      },
      "execution_count": 21,
      "outputs": [
        {
          "output_type": "execute_result",
          "data": {
            "text/plain": [
              "Rekha                 2467\n",
              "Hema Malini             72\n",
              "Mithun Chakraborty      63\n",
              "Dharmendra              61\n",
              "Helen                   48\n",
              "                      ... \n",
              "Paris Keswani            1\n",
              "Shubhangi Latkar         1\n",
              "Amit Ghosh               1\n",
              "Ayushi Singh             1\n",
              "Sarah Jane Dias          1\n",
              "Name: Actor 2, Length: 4891, dtype: int64"
            ]
          },
          "metadata": {},
          "execution_count": 21
        }
      ]
    },
    {
      "cell_type": "code",
      "source": [
        "movies_data['Actor 2'].unique()"
      ],
      "metadata": {
        "colab": {
          "base_uri": "https://localhost:8080/"
        },
        "id": "BDQ0H13dLW0Y",
        "outputId": "717e0e37-8c5f-40b0-c16a-ca8a1de0426c"
      },
      "execution_count": 22,
      "outputs": [
        {
          "output_type": "execute_result",
          "data": {
            "text/plain": [
              "array(['Birbal', 'Vivek Ghamande', 'Plabita Borthakur', ...,\n",
              "       'Devan Sanjeev', 'Prince Daniel', 'Sarah Jane Dias'], dtype=object)"
            ]
          },
          "metadata": {},
          "execution_count": 22
        }
      ]
    },
    {
      "cell_type": "code",
      "source": [
        "movies_data['Actor 3'].value_counts()"
      ],
      "metadata": {
        "colab": {
          "base_uri": "https://localhost:8080/"
        },
        "id": "wiQCCBrUK7At",
        "outputId": "07cf5619-e41b-442a-f946-6101a5577945"
      },
      "execution_count": 23,
      "outputs": [
        {
          "output_type": "execute_result",
          "data": {
            "text/plain": [
              "Pran             3235\n",
              "Shakti Kapoor      65\n",
              "Anupam Kher        64\n",
              "Jeevan             59\n",
              "Prem Chopra        52\n",
              "                 ... \n",
              "Kayamali            1\n",
              "Kirit Shah          1\n",
              "Sanil Khosla        1\n",
              "Anup Grover         1\n",
              "Suparna Anand       1\n",
              "Name: Actor 3, Length: 4820, dtype: int64"
            ]
          },
          "metadata": {},
          "execution_count": 23
        }
      ]
    },
    {
      "cell_type": "code",
      "source": [
        "movies_data['Actor 3'].unique()"
      ],
      "metadata": {
        "colab": {
          "base_uri": "https://localhost:8080/"
        },
        "id": "Fy5BXDmwLG0x",
        "outputId": "5c2ef7af-7d0f-44c8-f218-fed1042e9051"
      },
      "execution_count": 24,
      "outputs": [
        {
          "output_type": "execute_result",
          "data": {
            "text/plain": [
              "array(['Rajendra Bhatia', 'Arvind Jangid', 'Roy Angana', ...,\n",
              "       'Shatakshi Gupta', 'Valerie Agha', 'Suparna Anand'], dtype=object)"
            ]
          },
          "metadata": {},
          "execution_count": 24
        }
      ]
    },
    {
      "cell_type": "code",
      "source": [
        "movies_data['Rating'].value_counts()"
      ],
      "metadata": {
        "colab": {
          "base_uri": "https://localhost:8080/"
        },
        "id": "Pc_Xhm4QLA1O",
        "outputId": "4ea01b58-1600-4c41-9af5-802c6c05774c"
      },
      "execution_count": 25,
      "outputs": [
        {
          "output_type": "execute_result",
          "data": {
            "text/plain": [
              "5.841621     7590\n",
              "6.200000      269\n",
              "6.800000      264\n",
              "6.500000      254\n",
              "6.600000      239\n",
              "             ... \n",
              "9.700000        1\n",
              "1.400000        1\n",
              "10.000000       1\n",
              "9.600000        1\n",
              "1.100000        1\n",
              "Name: Rating, Length: 85, dtype: int64"
            ]
          },
          "metadata": {},
          "execution_count": 25
        }
      ]
    },
    {
      "cell_type": "code",
      "source": [
        "movies_data['Rating'].unique()"
      ],
      "metadata": {
        "colab": {
          "base_uri": "https://localhost:8080/"
        },
        "id": "6lNNDe6mLgka",
        "outputId": "d00a1cb7-5309-4835-8a89-bef10ecf561a"
      },
      "execution_count": 26,
      "outputs": [
        {
          "output_type": "execute_result",
          "data": {
            "text/plain": [
              "array([ 5.84162142,  7.        ,  4.4       ,  4.7       ,  7.4       ,\n",
              "        5.6       ,  4.        ,  6.2       ,  5.9       ,  6.5       ,\n",
              "        5.7       ,  6.3       ,  7.2       ,  6.6       ,  7.3       ,\n",
              "        7.1       ,  6.9       ,  3.5       ,  5.        ,  4.5       ,\n",
              "        6.4       ,  4.1       ,  4.8       ,  8.1       ,  5.5       ,\n",
              "        6.8       ,  6.1       ,  7.7       ,  5.1       ,  7.6       ,\n",
              "        3.1       ,  3.3       ,  7.8       ,  8.4       ,  5.2       ,\n",
              "        4.3       ,  5.8       ,  4.6       ,  7.5       ,  6.7       ,\n",
              "        3.6       ,  3.9       ,  5.4       ,  4.2       ,  5.3       ,\n",
              "        3.4       ,  3.        ,  8.        ,  6.        ,  3.8       ,\n",
              "        7.9       ,  2.7       ,  4.9       ,  2.4       ,  3.7       ,\n",
              "        3.2       ,  2.5       ,  2.8       ,  2.6       ,  2.9       ,\n",
              "        8.2       ,  8.7       ,  8.3       ,  9.3       ,  8.8       ,\n",
              "        2.1       ,  2.3       ,  8.5       ,  8.6       ,  9.        ,\n",
              "        9.6       ,  1.7       ,  9.1       ,  2.        ,  1.4       ,\n",
              "        8.9       ,  1.9       ,  9.4       ,  9.7       ,  1.8       ,\n",
              "        9.2       ,  1.6       , 10.        ,  2.2       ,  1.1       ])"
            ]
          },
          "metadata": {},
          "execution_count": 26
        }
      ]
    },
    {
      "cell_type": "code",
      "source": [
        "sns.histplot(movies_data['Rating'], bins=20)\n",
        "plt.title('Distribution of Movie Ratings')\n",
        "plt.xlabel('Rating')\n",
        "plt.ylabel('Frequency')"
      ],
      "metadata": {
        "colab": {
          "base_uri": "https://localhost:8080/",
          "height": 489
        },
        "id": "ygBlxehknPsb",
        "outputId": "1af60b17-242f-410e-8bc0-b9544e51c43d"
      },
      "execution_count": 27,
      "outputs": [
        {
          "output_type": "execute_result",
          "data": {
            "text/plain": [
              "Text(0, 0.5, 'Frequency')"
            ]
          },
          "metadata": {},
          "execution_count": 27
        },
        {
          "output_type": "display_data",
          "data": {
            "text/plain": [
              "<Figure size 640x480 with 1 Axes>"
            ],
            "image/png": "[encoded data removed]"
          },
          "metadata": {}
        }
      ]
    },
    {
      "cell_type": "code",
      "source": [
        "movies_data['Director'].unique()"
      ],
      "metadata": {
        "colab": {
          "base_uri": "https://localhost:8080/"
        },
        "id": "afiM4PHoLqIz",
        "outputId": "9e21971b-cbfe-4e90-f22e-314bd85355ee"
      },
      "execution_count": 28,
      "outputs": [
        {
          "output_type": "execute_result",
          "data": {
            "text/plain": [
              "array(['J.S. Randhawa', 'Gaurav Bakshi', 'Soumyajit Majumdar', ...,\n",
              "       'Mozez Singh', 'Ved Prakash', 'Kiran Thej'], dtype=object)"
            ]
          },
          "metadata": {},
          "execution_count": 28
        }
      ]
    },
    {
      "cell_type": "code",
      "source": [
        "movies_data['Genre'].unique()"
      ],
      "metadata": {
        "colab": {
          "base_uri": "https://localhost:8080/"
        },
        "id": "mWLk2DpBL4Av",
        "outputId": "c9912eff-1334-43bc-9212-fa2043fe8a5f"
      },
      "execution_count": 29,
      "outputs": [
        {
          "output_type": "execute_result",
          "data": {
            "text/plain": [
              "array(['Drama', 'Drama, Musical', 'Comedy, Romance',\n",
              "       'Comedy, Drama, Musical', 'Drama, Romance, War', 'Documentary',\n",
              "       'Horror, Mystery, Thriller', 'Action, Crime, Thriller', 'Horror',\n",
              "       'Horror, Romance, Thriller', 'Comedy, Drama, Romance', 'Thriller',\n",
              "       'Comedy, Drama', 'Comedy, Drama, Fantasy', 'Comedy, Drama, Family',\n",
              "       'Crime, Drama, Mystery', 'Horror, Thriller', 'Biography',\n",
              "       'Comedy, Horror', 'Action', 'Drama, Horror, Mystery', 'Comedy',\n",
              "       'Action, Thriller', 'Drama, History', 'Drama, History, Sport',\n",
              "       'Horror, Mystery, Romance', 'Horror, Mystery',\n",
              "       'Drama, Horror, Romance', 'Action, Drama, History',\n",
              "       'Action, Drama, War', 'Comedy, Family',\n",
              "       'Adventure, Horror, Mystery', 'Action, Sci-Fi',\n",
              "       'Crime, Mystery, Thriller', 'War', 'Sport',\n",
              "       'Biography, Drama, History', 'Horror, Romance', 'Crime, Drama',\n",
              "       'Drama, Romance', 'Adventure, Drama', 'Comedy, Mystery, Thriller',\n",
              "       'Action, Crime, Drama', 'Crime, Thriller',\n",
              "       'Horror, Sci-Fi, Thriller', 'Crime, Drama, Thriller',\n",
              "       'Drama, Mystery, Thriller', 'Drama, Sport',\n",
              "       'Drama, Family, Musical', 'Action, Comedy', 'Comedy, Thriller',\n",
              "       'Action, Adventure, Fantasy', 'Drama, Romance, Thriller',\n",
              "       'Action, Drama', 'Drama, Horror, Musical',\n",
              "       'Action, Biography, Drama', 'Adventure, Comedy, Drama', 'Mystery',\n",
              "       'Action, Fantasy, Mystery', 'Adventure, Drama, Mystery',\n",
              "       'Mystery, Thriller', 'Adventure', 'Drama, Musical, Thriller',\n",
              "       'Comedy, Crime, Drama', 'Musical, Romance', 'Documentary, Music',\n",
              "       'Documentary, History, Music', 'Drama, Fantasy, Mystery',\n",
              "       'Drama, Family, Sport', 'Drama, Thriller',\n",
              "       'Documentary, Biography', 'Action, Adventure, Comedy', 'Romance',\n",
              "       'Comedy, Drama, Music', 'Comedy, Horror, Mystery', 'Musical',\n",
              "       'Musical, Romance, Drama', 'Family, Romance',\n",
              "       'Action, Sci-Fi, Thriller', 'Action, Drama, Romance',\n",
              "       'Mystery, Romance', 'Fantasy', 'Family', 'Drama, Family',\n",
              "       'Action, Comedy, Drama', 'Action, Drama, Thriller',\n",
              "       'Drama, Horror, Thriller', 'Drama, Musical, Romance',\n",
              "       'Comedy, Sci-Fi', 'Action, Romance', 'Action, Crime',\n",
              "       'Action, Drama, Crime', 'Drama, Family, Music',\n",
              "       'Action, Mystery, Thriller', 'Action, Drama, Family',\n",
              "       'Action, Mystery', 'Drama, History, Romance',\n",
              "       'Crime, Drama, Music', 'Sci-Fi', 'Animation',\n",
              "       'Crime, Mystery, Romance', 'Action, Adventure, Romance',\n",
              "       'Music, Romance', 'Action, Comedy, Crime',\n",
              "       'Comedy, Family, Fantasy', 'Romance, Drama',\n",
              "       'Drama, Family, Romance', 'Romance, Drama, Family',\n",
              "       'Musical, Romance, Thriller', 'Family, Musical, Romance',\n",
              "       'Action, Drama, Fantasy', 'Family, Drama', 'Crime, Drama, Romance',\n",
              "       'Musical, Drama, Romance', 'Drama, Music, Musical',\n",
              "       'Drama, Mystery', 'Adventure, Comedy, Romance',\n",
              "       'Crime, Drama, Horror', 'Family, Music, Musical',\n",
              "       'Action, Musical, Thriller', 'Action, Romance, Thriller',\n",
              "       'Romance, Thriller', 'Drama, Music', 'Crime, Drama, Musical',\n",
              "       'Action, Crime, Mystery', 'Action, Adventure, Thriller',\n",
              "       'Comedy, Romance, Sci-Fi', 'Crime', 'Action, Drama, Mystery',\n",
              "       'Action, Comedy, Thriller', 'Biography, Drama',\n",
              "       'Action, Comedy, Fantasy', 'Drama, Family, Horror',\n",
              "       'Action, Adventure, Family', 'Documentary, Biography, Musical',\n",
              "       'Action, Drama, Musical', 'Adventure, Thriller', 'Crime, Mystery',\n",
              "       'Drama, Crime', 'Drama, Fantasy, Romance',\n",
              "       'Comedy, Romance, Thriller', 'Musical, Comedy, Drama',\n",
              "       'Biography, History, War', 'Action, Comedy, Romance',\n",
              "       'Drama, History, Musical', 'Action, Crime, Horror',\n",
              "       'Adventure, Fantasy', 'Adventure, Drama, Fantasy',\n",
              "       'Adventure, Fantasy, Romance', 'Action, Adventure, Drama',\n",
              "       'Action, Adventure', 'Comedy, Crime', 'Crime, Drama, Fantasy',\n",
              "       'Adventure, Drama, Romance', 'History', 'Drama, Fantasy, Thriller',\n",
              "       'Musical, Fantasy', 'Documentary, Thriller',\n",
              "       'Mystery, Romance, Musical', 'Family, Drama, Romance',\n",
              "       'History, Musical, Romance', 'Musical, Drama, Crime',\n",
              "       'Adventure, Crime, Romance', 'Musical, Thriller, Mystery',\n",
              "       'Drama, Comedy', 'Biography, Drama, Romance', 'Biography, Music',\n",
              "       'Biography, Drama, Music', 'Drama, Sci-Fi',\n",
              "       'Drama, Family, Thriller', 'Comedy, Musical, Romance',\n",
              "       'Drama, Family, Comedy', 'Action, Thriller, Romance',\n",
              "       'Animation, Adventure', 'Action, Crime, Musical',\n",
              "       'Action, Crime, Romance', 'Animation, Action, Adventure',\n",
              "       'Action, Drama, Sport', 'Comedy, History', 'Documentary, History',\n",
              "       'Drama, Comedy, Family', 'Action, Adventure, Crime',\n",
              "       'Documentary, Biography, Music', 'Comedy, Musical',\n",
              "       'Biography, Crime, Thriller', 'Adventure, Mystery, Thriller',\n",
              "       'Biography, Drama, Sport', 'Action, Comedy, Musical',\n",
              "       'Mystery, Romance, Thriller', 'Action, Adventure, Musical',\n",
              "       'Crime, Musical, Mystery', 'Action, Thriller, Crime',\n",
              "       'Adventure, Comedy, Crime', 'Comedy, Horror, Musical',\n",
              "       'Adventure, Family', 'Family, Thriller', 'Drama, Action, Crime',\n",
              "       'Drama, War', 'Action, Drama, Adventure',\n",
              "       'Adventure, Fantasy, History', 'Fantasy, Musical',\n",
              "       'Comedy, Drama, Thriller', 'Drama, Fantasy', 'Musical, Drama',\n",
              "       'Action, Drama, Horror', 'Biography, Crime, Drama',\n",
              "       'Action, Drama, Music', 'Adventure, Drama, Family',\n",
              "       'Drama, Romance, Musical', 'Comedy, Musical, Drama',\n",
              "       'Adventure, Comedy, Musical', 'Crime, Drama, Family',\n",
              "       'Thriller, Musical, Mystery', 'Documentary, Adventure, Crime',\n",
              "       'Drama, Action, Horror', 'Adventure, Crime, Drama',\n",
              "       'Documentary, Biography, Sport', 'Crime, Fantasy, Mystery',\n",
              "       'Documentary, Biography, Drama', 'Action, Fantasy, Thriller',\n",
              "       'Adventure, Drama, History', 'Animation, Drama, History',\n",
              "       'Comedy, Horror, Thriller', 'Drama, Family, History',\n",
              "       'Animation, History', 'Biography, Drama, Musical', 'Music',\n",
              "       'Family, Comedy', 'Adventure, Mystery', 'Family, Fantasy',\n",
              "       'Documentary, History, News', 'Drama, Mystery, Romance',\n",
              "       'Comedy, Fantasy', 'Action, Crime, Family',\n",
              "       'Drama, Musical, Mystery', 'Action, Thriller, Mystery',\n",
              "       'Drama, Family, Fantasy', 'Action, Family',\n",
              "       'Action, Adventure, Mystery', 'Horror, Fantasy', 'Comedy, Action',\n",
              "       'Adventure, Romance', 'Drama, Adventure',\n",
              "       'Animation, Drama, Romance', 'Comedy, Crime, Romance',\n",
              "       'Adventure, Comedy', 'Comedy, Drama, Sport',\n",
              "       'Documentary, Crime, History', 'Musical, Mystery, Drama',\n",
              "       'Adventure, Drama, Sci-Fi', 'Action, Romance, Western',\n",
              "       'Comedy, Fantasy, Romance', 'Animation, Action, Comedy',\n",
              "       'Drama, Fantasy, Sci-Fi', 'Drama, Horror', 'Family, Drama, Comedy',\n",
              "       'Action, Adventure, History', 'Comedy, Family, Romance',\n",
              "       'Biography, History', 'Animation, Family',\n",
              "       'Drama, Fantasy, History', 'Animation, Adventure, Fantasy',\n",
              "       'Adventure, Comedy, Family', 'Drama, History, War',\n",
              "       'Animation, Drama, Fantasy', 'Action, Musical, Romance',\n",
              "       'Crime, Action, Drama', 'Comedy, Romance, Musical',\n",
              "       'Fantasy, Drama', 'Musical, Action, Crime', 'Documentary, Drama',\n",
              "       'Action, Horror, Thriller', 'Action, Horror, Sci-Fi',\n",
              "       'Mystery, Sci-Fi, Thriller', 'Biography, Family',\n",
              "       'Drama, Action, Comedy', 'Drama, Music, Romance',\n",
              "       'Action, Biography, Crime', 'Adventure, Drama, Musical',\n",
              "       'Family, Music, Romance', 'Fantasy, Mystery, Romance',\n",
              "       'Drama, Crime, Family', 'Drama, Family, Action',\n",
              "       'Romance, Comedy, Drama', 'Animation, Adventure, Comedy',\n",
              "       'Sci-Fi, Thriller', 'Romance, Family, Drama',\n",
              "       'Action, Family, Thriller', 'Adventure, Crime, Thriller',\n",
              "       'Drama, Romance, Sport', 'Comedy, Crime, Mystery',\n",
              "       'Adventure, Comedy, Mystery', 'Action, Fantasy', 'Comedy, Mystery',\n",
              "       'Animation, Adventure, Family', 'Adventure, Drama, Music',\n",
              "       'Biography, Drama, War', 'Documentary, Comedy, Drama',\n",
              "       'Musical, Drama, Family', 'Animation, Comedy, Drama',\n",
              "       'Fantasy, Musical, Drama', 'Adventure, Crime, Mystery',\n",
              "       'Comedy, Drama, Mystery', 'Documentary, News',\n",
              "       'Drama, Musical, Family', 'Action, Romance, Drama',\n",
              "       'Comedy, Crime, Thriller', 'Action, Musical', 'Action, History',\n",
              "       'Action, Comedy, Mystery', 'Drama, Family, Mystery',\n",
              "       'Adventure, Drama, Thriller', 'Documentary, Reality-TV',\n",
              "       'Action, Fantasy, Horror', 'Drama, History, Thriller',\n",
              "       'Documentary, Family', 'Documentary, Biography, Family',\n",
              "       'Comedy, Sport', 'Animation, Comedy, Family',\n",
              "       'Crime, Romance, Thriller', 'Comedy, Musical, Action',\n",
              "       'Action, Mystery, Sci-Fi', 'Comedy, Crime, Musical',\n",
              "       'Drama, Adventure, Action', 'History, Romance', 'Reality-TV',\n",
              "       'Fantasy, History', 'Family, Drama, Thriller',\n",
              "       'Musical, Mystery, Thriller', 'Musical, Comedy, Romance',\n",
              "       'Musical, Action, Drama', 'Action, Musical, War',\n",
              "       'Romance, Comedy', 'Horror, Crime, Thriller',\n",
              "       'Crime, Drama, History', 'Comedy, Drama, Horror',\n",
              "       'Crime, Horror, Thriller', 'Animation, Comedy',\n",
              "       'Romance, Action, Crime', 'Musical, Thriller',\n",
              "       'Action, Romance, Comedy', 'Comedy, Family, Musical',\n",
              "       'Horror, Drama, Mystery', 'Thriller, Mystery, Family',\n",
              "       'Comedy, Drama, Sci-Fi', 'Documentary, Adventure',\n",
              "       'Documentary, Biography, Crime', 'Musical, Action',\n",
              "       'Musical, Mystery', 'Action, Crime, Sci-Fi',\n",
              "       'Action, Horror, Mystery', 'Fantasy, Horror',\n",
              "       'Adventure, Family, Fantasy', 'Fantasy, Sci-Fi', 'Comedy, War',\n",
              "       'Romance, Action, Drama', 'Musical, Family, Romance',\n",
              "       'Romance, Drama, Action', 'Family, Comedy, Drama',\n",
              "       'Comedy, Music, Romance', 'Comedy, Family, Sci-Fi',\n",
              "       'Action, Drama, Western', 'Adventure, Romance, Thriller',\n",
              "       'Biography, Comedy, Drama', 'Action, Mystery, Romance',\n",
              "       'Romance, Sport', 'Crime, Romance', 'Action, Thriller, Western',\n",
              "       'Crime, Musical, Romance', 'Romance, Thriller, Mystery',\n",
              "       'Drama, Crime, Mystery', 'Biography, Drama, Family',\n",
              "       'Action, Family, Mystery', 'Comedy, Mystery, Romance',\n",
              "       'Drama, Thriller, Action', 'Documentary, Short',\n",
              "       'Documentary, Western', 'Musical, Family, Drama',\n",
              "       'Action, Family, Musical', 'Animation, Family, Musical',\n",
              "       'Drama, Fantasy, Horror', 'Action, Adventure, Sci-Fi',\n",
              "       'Drama, Action, Musical', 'Drama, Musical, Sport',\n",
              "       'Action, Comedy, Horror', 'Drama, Fantasy, Musical',\n",
              "       'Action, Fantasy, Musical', 'Animation, Action', 'Comedy, Music',\n",
              "       'Documentary, Drama, Romance', 'Drama, Music, Thriller',\n",
              "       'Fantasy, Musical, Mystery', 'Drama, Fantasy, War', 'Action, War',\n",
              "       'Action, Adventure, War', 'Horror, Musical',\n",
              "       'Fantasy, Mystery, Thriller', 'Adventure, Biography, Drama',\n",
              "       'Family, Romance, Sci-Fi', 'Drama, Romance, Family',\n",
              "       'Animation, Adventure, Drama', 'Family, Romance, Drama',\n",
              "       'Animation, Action, Sci-Fi', 'Adventure, Comedy, Fantasy',\n",
              "       'Comedy, Crime, Family', 'Horror, Musical, Thriller',\n",
              "       'Biography, Drama, Thriller', 'Drama, Western',\n",
              "       'Romance, Sci-Fi, Thriller', 'Comedy, Musical, Family',\n",
              "       'Comedy, Horror, Romance', 'Thriller, Action',\n",
              "       'Fantasy, Thriller, Action', 'Fantasy, Romance',\n",
              "       'Action, Drama, Comedy', 'Family, Fantasy, Romance',\n",
              "       'Comedy, Crime, Horror', 'Horror, Mystery, Sci-Fi',\n",
              "       'Animation, Action, Drama', 'Family, Mystery',\n",
              "       'Adventure, Biography, History', 'Fantasy, Horror, Mystery',\n",
              "       'Family, Musical', 'Drama, Family, Adventure',\n",
              "       'Crime, Horror, Mystery', 'Documentary, Drama, Fantasy',\n",
              "       'Action, Adventure, Biography', 'Biography, History, Thriller',\n",
              "       'Action, Family, Drama', 'Documentary, Drama, Sport',\n",
              "       'Thriller, Mystery', 'Musical, Drama, Comedy',\n",
              "       'Documentary, History, War', 'Adventure, Horror, Thriller',\n",
              "       'Action, Adventure, Horror', 'Action, Crime, War',\n",
              "       'Adventure, Musical, Romance', 'Action, Fantasy, Sci-Fi',\n",
              "       'Drama, Comedy, Action', 'Documentary, Sport',\n",
              "       'Documentary, Adventure, Music', 'Drama, Action, Family',\n",
              "       'Adventure, History, Thriller', 'Adventure, Horror, Romance',\n",
              "       'Adventure, Crime, Horror', 'Mystery, Musical, Romance',\n",
              "       'Action, Crime, History', 'Documentary, Musical',\n",
              "       'Adventure, Fantasy, Musical', 'Documentary, Family, History',\n",
              "       'Documentary, Drama, Family', 'Drama, Mystery, Sci-Fi',\n",
              "       'Animation, Drama, Musical', 'Drama, History, Mystery',\n",
              "       'Drama, Sport, Thriller', 'Action, Crime, Fantasy',\n",
              "       'Comedy, Musical, Mystery', 'Romance, Musical, Action',\n",
              "       'Musical, Drama, Fantasy', 'Animation, Family, History',\n",
              "       'Action, Drama, News', 'Romance, Musical, Comedy',\n",
              "       'Adventure, Fantasy, Horror', 'Adventure, History',\n",
              "       'Comedy, Drama, History', 'Mystery, Sci-Fi',\n",
              "       'Action, Thriller, War', 'Documentary, Drama, News',\n",
              "       'Documentary, Crime, Mystery', 'Adventure, Horror',\n",
              "       'Animation, Drama, Adventure', 'Crime, Horror, Romance',\n",
              "       'Documentary, Adventure, Drama', 'Documentary, Biography, History',\n",
              "       'Fantasy, Horror, Romance', 'Comedy, Fantasy, Musical',\n",
              "       'Crime, Musical, Thriller', 'Documentary, War',\n",
              "       'Action, Comedy, War', 'Crime, Drama, Sport',\n",
              "       'Musical, Adventure, Drama', 'Horror, Romance, Sci-Fi',\n",
              "       'Musical, Mystery, Romance', 'Romance, Musical, Drama',\n",
              "       'Adventure, Fantasy, Sci-Fi'], dtype=object)"
            ]
          },
          "metadata": {},
          "execution_count": 29
        }
      ]
    },
    {
      "cell_type": "code",
      "source": [
        "movies_data['Genre'].value_counts().head(20)\n"
      ],
      "metadata": {
        "colab": {
          "base_uri": "https://localhost:8080/"
        },
        "id": "FkVY0QHUrLGj",
        "outputId": "6e4b1317-c93e-4caf-cb76-2266160716b4"
      },
      "execution_count": 30,
      "outputs": [
        {
          "output_type": "execute_result",
          "data": {
            "text/plain": [
              "Drama                      4657\n",
              "Action                     1289\n",
              "Thriller                    779\n",
              "Romance                     708\n",
              "Drama, Romance              524\n",
              "Comedy                      495\n",
              "Action, Crime, Drama        455\n",
              "Drama, Family               418\n",
              "Horror                      322\n",
              "Action, Drama               316\n",
              "Documentary                 283\n",
              "Comedy, Drama               264\n",
              "Comedy, Drama, Romance      224\n",
              "Fantasy                     170\n",
              "Action, Comedy, Drama       149\n",
              "Action, Thriller            142\n",
              "Comedy, Romance             140\n",
              "Action, Drama, Romance      134\n",
              "Family                      112\n",
              "Drama, Musical, Romance     108\n",
              "Name: Genre, dtype: int64"
            ]
          },
          "metadata": {},
          "execution_count": 30
        }
      ]
    },
    {
      "cell_type": "code",
      "source": [
        "# Using value_counts() to get unique values and their counts\n",
        "value_counts = movies_data['Genre'].value_counts()\n",
        "print(\"Unique Values and Counts:\\n\", value_counts)"
      ],
      "metadata": {
        "colab": {
          "base_uri": "https://localhost:8080/"
        },
        "id": "_KJM2SrkrXPM",
        "outputId": "e4838873-6dad-4de3-b824-6e43a4444f17"
      },
      "execution_count": 31,
      "outputs": [
        {
          "output_type": "stream",
          "name": "stdout",
          "text": [
            "Unique Values and Counts:\n",
            " Drama                         4657\n",
            "Action                        1289\n",
            "Thriller                       779\n",
            "Romance                        708\n",
            "Drama, Romance                 524\n",
            "                              ... \n",
            "Action, Musical, War             1\n",
            "Horror, Crime, Thriller          1\n",
            "Animation, Comedy                1\n",
            "Romance, Action, Crime           1\n",
            "Adventure, Fantasy, Sci-Fi       1\n",
            "Name: Genre, Length: 485, dtype: int64\n"
          ]
        }
      ]
    },
    {
      "cell_type": "code",
      "source": [
        "all_genres = []\n",
        "for genres_str in movies_data['Genre']:\n",
        "    genres_list = genres_str.split(',')\n",
        "    all_genres.extend(genres_list)\n",
        "\n",
        "unique_genres = set(all_genres)\n",
        "print(\"Number of unique genres:\", len(unique_genres))"
      ],
      "metadata": {
        "colab": {
          "base_uri": "https://localhost:8080/"
        },
        "id": "cEl7iI6M2ue-",
        "outputId": "0f50e0eb-55c9-4d8a-d477-f8d45387a820"
      },
      "execution_count": 32,
      "outputs": [
        {
          "output_type": "stream",
          "name": "stdout",
          "text": [
            "Number of unique genres: 43\n"
          ]
        }
      ]
    },
    {
      "cell_type": "code",
      "source": [
        "all_genres = nltk.FreqDist(all_genres)\n",
        "\n",
        "# create dataframe\n",
        "all_genres_df = pd.DataFrame({'Genre': list(all_genres.keys()),\n",
        "                              'Count': list(all_genres.values())})"
      ],
      "metadata": {
        "id": "lYC0T4ur5Swo"
      },
      "execution_count": 33,
      "outputs": []
    },
    {
      "cell_type": "code",
      "source": [
        "genres = all_genres_df.nlargest(columns=\"Count\", n = 50)\n",
        "plt.figure(figsize=(8,10))\n",
        "ax = sns.barplot(data=genres, x= \"Count\", y = \"Genre\")\n",
        "ax.set(ylabel = 'Count')\n",
        "plt.show()"
      ],
      "metadata": {
        "colab": {
          "base_uri": "https://localhost:8080/",
          "height": 850
        },
        "id": "60NqbNhB-RyA",
        "outputId": "6cf76ddf-aab0-4828-9177-228e25bbe619"
      },
      "execution_count": 34,
      "outputs": [
        {
          "output_type": "display_data",
          "data": {
            "text/plain": [
              "<Figure size 800x1000 with 1 Axes>"
            ],
            "image/png": "[encoded data removed]"
          },
          "metadata": {}
        }
      ]
    },
    {
      "cell_type": "code",
      "source": [
        "# Using group by to get the average ratings of the movies based on their genre\n",
        "grouped_data = movies_data.groupby('Genre')\n",
        "\n",
        "# Get the count of movies in each genre\n",
        "genre_counts = grouped_data.size().reset_index(name='movie_count')\n",
        "\n",
        "# Get the average rating for each genre\n",
        "average_rating = grouped_data['Rating'].mean().reset_index(name='average_rating')\n",
        "\n",
        "# Merge the results into a new DataFrame\n",
        "genre_stats = pd.merge(genre_counts, average_rating, on='Genre')\n",
        "\n",
        "# Display the resulting DataFrame\n",
        "print(genre_stats)\n"
      ],
      "metadata": {
        "colab": {
          "base_uri": "https://localhost:8080/"
        },
        "id": "Szsow5wr_Qtu",
        "outputId": "ecc01ca4-30b7-40be-cd39-dc091536f723"
      },
      "execution_count": 35,
      "outputs": [
        {
          "output_type": "stream",
          "name": "stdout",
          "text": [
            "                            Genre  movie_count  average_rating\n",
            "0                          Action         1289        5.599297\n",
            "1               Action, Adventure           41        5.675794\n",
            "2    Action, Adventure, Biography            1        7.800000\n",
            "3       Action, Adventure, Comedy           42        5.621030\n",
            "4        Action, Adventure, Crime           19        5.601309\n",
            "..                            ...          ...             ...\n",
            "480              Thriller, Action            2        5.070811\n",
            "481    Thriller, Musical, Mystery            1        7.100000\n",
            "482             Thriller, Mystery            3        6.533333\n",
            "483     Thriller, Mystery, Family            1        6.100000\n",
            "484                           War            8        5.276013\n",
            "\n",
            "[485 rows x 3 columns]\n"
          ]
        }
      ]
    },
    {
      "cell_type": "code",
      "source": [
        "movies_data['Name'].unique"
      ],
      "metadata": {
        "colab": {
          "base_uri": "https://localhost:8080/"
        },
        "id": "AuaH4g2uGQPt",
        "outputId": "972092b8-8687-41f6-9804-6d3748e3a615"
      },
      "execution_count": 36,
      "outputs": [
        {
          "output_type": "execute_result",
          "data": {
            "text/plain": [
              "<bound method Series.unique of 0                                          \n",
              "1        #Gadhvi (He thought he was Gandhi)\n",
              "2                               #Homecoming\n",
              "3                                   #Yaaram\n",
              "4                         ...And Once Again\n",
              "                        ...                \n",
              "15504                   Zulm Ko Jala Doonga\n",
              "15505                                 Zulmi\n",
              "15506                             Zulmi Raj\n",
              "15507                         Zulmi Shikari\n",
              "15508                          Zulm-O-Sitam\n",
              "Name: Name, Length: 15509, dtype: object>"
            ]
          },
          "metadata": {},
          "execution_count": 36
        }
      ]
    },
    {
      "cell_type": "code",
      "source": [
        "movies_data['Name'].value_counts().head(10)"
      ],
      "metadata": {
        "colab": {
          "base_uri": "https://localhost:8080/"
        },
        "id": "C-6V3Jk2GqIo",
        "outputId": "cf10155f-df9e-41c8-a887-781bf31c6bfa"
      },
      "execution_count": 37,
      "outputs": [
        {
          "output_type": "execute_result",
          "data": {
            "text/plain": [
              "Anjaam         7\n",
              "Mamta          7\n",
              "Zindagi        6\n",
              "Musafir        6\n",
              "Albela         5\n",
              "Toofan         5\n",
              "Guru           5\n",
              "Amar Prem      5\n",
              "Laila Majnu    5\n",
              "Shararat       5\n",
              "Name: Name, dtype: int64"
            ]
          },
          "metadata": {},
          "execution_count": 37
        }
      ]
    },
    {
      "cell_type": "code",
      "source": [
        "movies_data.info()"
      ],
      "metadata": {
        "colab": {
          "base_uri": "https://localhost:8080/"
        },
        "id": "Fr_9xMNImQKN",
        "outputId": "f79c9e85-53ac-4958-aed9-2dfe4e8cadc3"
      },
      "execution_count": 38,
      "outputs": [
        {
          "output_type": "stream",
          "name": "stdout",
          "text": [
            "<class 'pandas.core.frame.DataFrame'>\n",
            "RangeIndex: 15509 entries, 0 to 15508\n",
            "Data columns (total 10 columns):\n",
            " #   Column    Non-Null Count  Dtype  \n",
            "---  ------    --------------  -----  \n",
            " 0   Name      15509 non-null  object \n",
            " 1   Year      15509 non-null  object \n",
            " 2   Duration  15509 non-null  object \n",
            " 3   Genre     15509 non-null  object \n",
            " 4   Rating    15509 non-null  float64\n",
            " 5   Votes     15509 non-null  object \n",
            " 6   Director  15509 non-null  object \n",
            " 7   Actor 1   15509 non-null  object \n",
            " 8   Actor 2   15509 non-null  object \n",
            " 9   Actor 3   15509 non-null  object \n",
            "dtypes: float64(1), object(9)\n",
            "memory usage: 1.2+ MB\n"
          ]
        }
      ]
    },
    {
      "cell_type": "code",
      "source": [
        "movies_data['Votes'].value_counts().head(10)"
      ],
      "metadata": {
        "colab": {
          "base_uri": "https://localhost:8080/"
        },
        "id": "66Q154NYTFNw",
        "outputId": "876e4656-0ca5-4114-cd8a-d02afd8cdc4b"
      },
      "execution_count": 39,
      "outputs": [
        {
          "output_type": "execute_result",
          "data": {
            "text/plain": [
              "8     7816\n",
              "7      224\n",
              "9      221\n",
              "6      213\n",
              "10     175\n",
              "5      164\n",
              "11     157\n",
              "13     145\n",
              "12     136\n",
              "15     130\n",
              "Name: Votes, dtype: int64"
            ]
          },
          "metadata": {},
          "execution_count": 39
        }
      ]
    },
    {
      "cell_type": "code",
      "source": [
        "# Convert 'Votes' column to numeric (assuming it's initially in string format)\n",
        "movies_data['Votes'] = pd.to_numeric(movies_data['Votes'], errors='coerce')\n",
        "\n",
        "# Check for any non-numeric values\n",
        "non_numeric_votes = movies_data['Votes'].loc[~movies_data['Votes'].apply(lambda x: pd.to_numeric(x, errors='coerce')).notna()]\n",
        "print(\"Non-numeric 'Votes' values:\", non_numeric_votes)\n",
        "\n",
        "# Drop any rows with non-numeric 'Votes' values\n",
        "movies_data = movies_data.drop(non_numeric_votes.index)\n",
        "\n",
        "# Apply pd.cut after ensuring 'Votes' is numeric\n",
        "votes_bins = pd.cut(movies_data['Votes'], bins=20)\n",
        "votes_counts = votes_bins.value_counts().sort_index()\n",
        "\n",
        "# Create a bar plot\n",
        "votes_counts.plot(kind='bar', color='skyblue')\n",
        "\n",
        "plt.title('Votes Distribution')\n",
        "plt.xlabel('Votes')\n",
        "plt.ylabel('Frequency')\n",
        "plt.show()\n"
      ],
      "metadata": {
        "colab": {
          "base_uri": "https://localhost:8080/",
          "height": 765
        },
        "id": "3yOb4nlsUCfL",
        "outputId": "6c2c7d6b-6509-4a2c-9e14-b78d7ec159e4"
      },
      "execution_count": 40,
      "outputs": [
        {
          "output_type": "stream",
          "name": "stdout",
          "text": [
            "Non-numeric 'Votes' values: 6       NaN\n",
            "15      NaN\n",
            "28      NaN\n",
            "30      NaN\n",
            "33      NaN\n",
            "         ..\n",
            "15437   NaN\n",
            "15440   NaN\n",
            "15447   NaN\n",
            "15476   NaN\n",
            "15494   NaN\n",
            "Name: Votes, Length: 1372, dtype: float64\n"
          ]
        },
        {
          "output_type": "display_data",
          "data": {
            "text/plain": [
              "<Figure size 640x480 with 1 Axes>"
            ],
            "image/png": "[encoded data removed]"
          },
          "metadata": {}
        }
      ]
    },
    {
      "cell_type": "code",
      "source": [
        "# Assuming 'Votes' and 'Rating' are the columns you want to convert\n",
        "movies_data['Votes'] = movies_data['Votes'].astype(int)\n",
        "movies_data['Rating'] = movies_data['Rating'].astype(int)\n"
      ],
      "metadata": {
        "id": "wGk2YNijps-j"
      },
      "execution_count": 41,
      "outputs": []
    },
    {
      "cell_type": "code",
      "source": [],
      "metadata": {
        "id": "a1V5Rbwkpswn"
      },
      "execution_count": 41,
      "outputs": []
    },
    {
      "cell_type": "code",
      "source": [],
      "metadata": {
        "id": "mHnEF6_xpsjD"
      },
      "execution_count": 41,
      "outputs": []
    },
    {
      "cell_type": "code",
      "source": [],
      "metadata": {
        "id": "wFjYMV8upsUQ"
      },
      "execution_count": 41,
      "outputs": []
    },
    {
      "cell_type": "code",
      "source": [
        "movies_data.columns"
      ],
      "metadata": {
        "colab": {
          "base_uri": "https://localhost:8080/"
        },
        "id": "T0yE3GVjGFjn",
        "outputId": "8c1aa731-7030-40e7-843f-4ae18f880e0a"
      },
      "execution_count": 42,
      "outputs": [
        {
          "output_type": "execute_result",
          "data": {
            "text/plain": [
              "Index(['Name', 'Year', 'Duration', 'Genre', 'Rating', 'Votes', 'Director',\n",
              "       'Actor 1', 'Actor 2', 'Actor 3'],\n",
              "      dtype='object')"
            ]
          },
          "metadata": {},
          "execution_count": 42
        }
      ]
    },
    {
      "cell_type": "code",
      "source": [
        "# using group by to get information about the columns\n",
        "actor1 = movies_data.groupby('Actor 1')\n",
        "actor2 = movies_data.groupby('Actor 2')\n",
        "actor3 = movies_data.groupby('Actor 3')\n",
        "directors = movies_data.groupby('Director')\n",
        "ratings = movies_data.groupby('Rating')\n",
        "ratings.first()"
      ],
      "metadata": {
        "colab": {
          "base_uri": "https://localhost:8080/",
          "height": 394
        },
        "id": "MPMldIdXAVot",
        "outputId": "ca678092-89fd-4b32-b2ee-8da067d66ede"
      },
      "execution_count": 43,
      "outputs": [
        {
          "output_type": "execute_result",
          "data": {
            "text/plain": [
              "                                      Name    Year Duration  \\\n",
              "Rating                                                        \n",
              "1                    Chatur Singh Two Star  (2011)  150 min   \n",
              "2                             Aa Gaya Hero  (2017)  123 min   \n",
              "3                                    18.11  (2014)  126 min   \n",
              "4                                  #Yaaram  (2019)  110 min   \n",
              "5                                           (2019)  120 min   \n",
              "6                1:1.6 An Ode to Lost Love  (2004)   96 min   \n",
              "7       #Gadhvi (He thought he was Gandhi)  (2019)  109 min   \n",
              "8                   A Billion Colour Story  (2016)  105 min   \n",
              "9                             Ashok Vatika  (2018)   97 min   \n",
              "10                         Love Qubool Hai  (2020)   94 min   \n",
              "\n",
              "                            Genre  Votes                    Director  \\\n",
              "Rating                                                                 \n",
              "1       Action, Adventure, Comedy    624               Ajay Chandhok   \n",
              "2                          Action    339           Dipankar Senapati   \n",
              "3                          Action     10               Mohibul Haque   \n",
              "4                 Comedy, Romance     35                  Ovais Khan   \n",
              "5                           Drama      8               J.S. Randhawa   \n",
              "6                           Drama     17                 Madhu Ambat   \n",
              "7                           Drama      8               Gaurav Bakshi   \n",
              "8                           Drama    412  Padmakumar Narasimhamurthy   \n",
              "9                           Drama      7               Rahul Mallick   \n",
              "10                 Drama, Romance      5             Saif Ali Sayeed   \n",
              "\n",
              "                  Actor 1         Actor 2              Actor 3  \n",
              "Rating                                                          \n",
              "1             Sanjay Dutt   Ameesha Patel          Anupam Kher  \n",
              "2                 Govinda    Richa Sharma        Poonam Pandey  \n",
              "3              Rehal Khan  Gulshan Grover        Mukesh Tiwari  \n",
              "4                 Prateik      Ishita Raj      Siddhant Kapoor  \n",
              "5                Manmauji          Birbal      Rajendra Bhatia  \n",
              "6          Rati Agnihotri  Gulshan Grover        Atul Kulkarni  \n",
              "7            Rasika Dugal  Vivek Ghamande        Arvind Jangid  \n",
              "8       Dhruva Padmakumar   Gaurav Sharma               Vasuki  \n",
              "9              Kunj Anand  Sanjay Bishnoi         Paras Zutshi  \n",
              "10              Ahaan Jha  Mahesh Narayan  Rajasree Rajakumari  "
            ],
            "text/html": [
              "\n",
              "  <div id=\"df-e3cb00c2-2c34-4706-8a55-7124770cfe1a\" class=\"colab-df-container\">\n",
              "    <div>\n",
              "<style scoped>\n",
              "    .dataframe tbody tr th:only-of-type {\n",
              "        vertical-align: middle;\n",
              "    }\n",
              "\n",
              "    .dataframe tbody tr th {\n",
              "        vertical-align: top;\n",
              "    }\n",
              "\n",
              "    .dataframe thead th {\n",
              "        text-align: right;\n",
              "    }\n",
              "</style>\n",
              "<table border=\"1\" class=\"dataframe\">\n",
              "  <thead>\n",
              "    <tr style=\"text-align: right;\">\n",
              "      <th></th>\n",
              "      <th>Name</th>\n",
              "      <th>Year</th>\n",
              "      <th>Duration</th>\n",
              "      <th>Genre</th>\n",
              "      <th>Votes</th>\n",
              "      <th>Director</th>\n",
              "      <th>Actor 1</th>\n",
              "      <th>Actor 2</th>\n",
              "      <th>Actor 3</th>\n",
              "    </tr>\n",
              "    <tr>\n",
              "      <th>Rating</th>\n",
              "      <th></th>\n",
              "      <th></th>\n",
              "      <th></th>\n",
              "      <th></th>\n",
              "      <th></th>\n",
              "      <th></th>\n",
              "      <th></th>\n",
              "      <th></th>\n",
              "      <th></th>\n",
              "    </tr>\n",
              "  </thead>\n",
              "  <tbody>\n",
              "    <tr>\n",
              "      <th>1</th>\n",
              "      <td>Chatur Singh Two Star</td>\n",
              "      <td>(2011)</td>\n",
              "      <td>150 min</td>\n",
              "      <td>Action, Adventure, Comedy</td>\n",
              "      <td>624</td>\n",
              "      <td>Ajay Chandhok</td>\n",
              "      <td>Sanjay Dutt</td>\n",
              "      <td>Ameesha Patel</td>\n",
              "      <td>Anupam Kher</td>\n",
              "    </tr>\n",
              "    <tr>\n",
              "      <th>2</th>\n",
              "      <td>Aa Gaya Hero</td>\n",
              "      <td>(2017)</td>\n",
              "      <td>123 min</td>\n",
              "      <td>Action</td>\n",
              "      <td>339</td>\n",
              "      <td>Dipankar Senapati</td>\n",
              "      <td>Govinda</td>\n",
              "      <td>Richa Sharma</td>\n",
              "      <td>Poonam Pandey</td>\n",
              "    </tr>\n",
              "    <tr>\n",
              "      <th>3</th>\n",
              "      <td>18.11</td>\n",
              "      <td>(2014)</td>\n",
              "      <td>126 min</td>\n",
              "      <td>Action</td>\n",
              "      <td>10</td>\n",
              "      <td>Mohibul Haque</td>\n",
              "      <td>Rehal Khan</td>\n",
              "      <td>Gulshan Grover</td>\n",
              "      <td>Mukesh Tiwari</td>\n",
              "    </tr>\n",
              "    <tr>\n",
              "      <th>4</th>\n",
              "      <td>#Yaaram</td>\n",
              "      <td>(2019)</td>\n",
              "      <td>110 min</td>\n",
              "      <td>Comedy, Romance</td>\n",
              "      <td>35</td>\n",
              "      <td>Ovais Khan</td>\n",
              "      <td>Prateik</td>\n",
              "      <td>Ishita Raj</td>\n",
              "      <td>Siddhant Kapoor</td>\n",
              "    </tr>\n",
              "    <tr>\n",
              "      <th>5</th>\n",
              "      <td></td>\n",
              "      <td>(2019)</td>\n",
              "      <td>120 min</td>\n",
              "      <td>Drama</td>\n",
              "      <td>8</td>\n",
              "      <td>J.S. Randhawa</td>\n",
              "      <td>Manmauji</td>\n",
              "      <td>Birbal</td>\n",
              "      <td>Rajendra Bhatia</td>\n",
              "    </tr>\n",
              "    <tr>\n",
              "      <th>6</th>\n",
              "      <td>1:1.6 An Ode to Lost Love</td>\n",
              "      <td>(2004)</td>\n",
              "      <td>96 min</td>\n",
              "      <td>Drama</td>\n",
              "      <td>17</td>\n",
              "      <td>Madhu Ambat</td>\n",
              "      <td>Rati Agnihotri</td>\n",
              "      <td>Gulshan Grover</td>\n",
              "      <td>Atul Kulkarni</td>\n",
              "    </tr>\n",
              "    <tr>\n",
              "      <th>7</th>\n",
              "      <td>#Gadhvi (He thought he was Gandhi)</td>\n",
              "      <td>(2019)</td>\n",
              "      <td>109 min</td>\n",
              "      <td>Drama</td>\n",
              "      <td>8</td>\n",
              "      <td>Gaurav Bakshi</td>\n",
              "      <td>Rasika Dugal</td>\n",
              "      <td>Vivek Ghamande</td>\n",
              "      <td>Arvind Jangid</td>\n",
              "    </tr>\n",
              "    <tr>\n",
              "      <th>8</th>\n",
              "      <td>A Billion Colour Story</td>\n",
              "      <td>(2016)</td>\n",
              "      <td>105 min</td>\n",
              "      <td>Drama</td>\n",
              "      <td>412</td>\n",
              "      <td>Padmakumar Narasimhamurthy</td>\n",
              "      <td>Dhruva Padmakumar</td>\n",
              "      <td>Gaurav Sharma</td>\n",
              "      <td>Vasuki</td>\n",
              "    </tr>\n",
              "    <tr>\n",
              "      <th>9</th>\n",
              "      <td>Ashok Vatika</td>\n",
              "      <td>(2018)</td>\n",
              "      <td>97 min</td>\n",
              "      <td>Drama</td>\n",
              "      <td>7</td>\n",
              "      <td>Rahul Mallick</td>\n",
              "      <td>Kunj Anand</td>\n",
              "      <td>Sanjay Bishnoi</td>\n",
              "      <td>Paras Zutshi</td>\n",
              "    </tr>\n",
              "    <tr>\n",
              "      <th>10</th>\n",
              "      <td>Love Qubool Hai</td>\n",
              "      <td>(2020)</td>\n",
              "      <td>94 min</td>\n",
              "      <td>Drama, Romance</td>\n",
              "      <td>5</td>\n",
              "      <td>Saif Ali Sayeed</td>\n",
              "      <td>Ahaan Jha</td>\n",
              "      <td>Mahesh Narayan</td>\n",
              "      <td>Rajasree Rajakumari</td>\n",
              "    </tr>\n",
              "  </tbody>\n",
              "</table>\n",
              "</div>\n",
              "    <div class=\"colab-df-buttons\">\n",
              "\n",
              "  <div class=\"colab-df-container\">\n",
              "    <button class=\"colab-df-convert\" onclick=\"convertToInteractive('df-e3cb00c2-2c34-4706-8a55-7124770cfe1a')\"\n",
              "            title=\"Convert this dataframe to an interactive table.\"\n",
              "            style=\"display:none;\">\n",
              "\n",
              "  <svg xmlns=\"http://www.w3.org/2000/svg\" height=\"24px\" viewBox=\"0 -960 960 960\">\n",
              "    <path d=\"M120-120v-720h720v720H120Zm60-500h600v-160H180v160Zm220 220h160v-160H400v160Zm0 220h160v-160H400v160ZM180-400h160v-160H180v160Zm440 0h160v-160H620v160ZM180-180h160v-160H180v160Zm440 0h160v-160H620v160Z\"/>\n",
              "  </svg>\n",
              "    </button>\n",
              "\n",
              "  <style>\n",
              "    .colab-df-container {\n",
              "      display:flex;\n",
              "      gap: 12px;\n",
              "    }\n",
              "\n",
              "    .colab-df-convert {\n",
              "      background-color: #E8F0FE;\n",
              "      border: none;\n",
              "      border-radius: 50%;\n",
              "      cursor: pointer;\n",
              "      display: none;\n",
              "      fill: #1967D2;\n",
              "      height: 32px;\n",
              "      padding: 0 0 0 0;\n",
              "      width: 32px;\n",
              "    }\n",
              "\n",
              "    .colab-df-convert:hover {\n",
              "      background-color: #E2EBFA;\n",
              "      box-shadow: 0px 1px 2px rgba(60, 64, 67, 0.3), 0px 1px 3px 1px rgba(60, 64, 67, 0.15);\n",
              "      fill: #174EA6;\n",
              "    }\n",
              "\n",
              "    .colab-df-buttons div {\n",
              "      margin-bottom: 4px;\n",
              "    }\n",
              "\n",
              "    [theme=dark] .colab-df-convert {\n",
              "      background-color: #3B4455;\n",
              "      fill: #D2E3FC;\n",
              "    }\n",
              "\n",
              "    [theme=dark] .colab-df-convert:hover {\n",
              "      background-color: #434B5C;\n",
              "      box-shadow: 0px 1px 3px 1px rgba(0, 0, 0, 0.15);\n",
              "      filter: drop-shadow(0px 1px 2px rgba(0, 0, 0, 0.3));\n",
              "      fill: #FFFFFF;\n",
              "    }\n",
              "  </style>\n",
              "\n",
              "    <script>\n",
              "      const buttonEl =\n",
              "        document.querySelector('#df-e3cb00c2-2c34-4706-8a55-7124770cfe1a button.colab-df-convert');\n",
              "      buttonEl.style.display =\n",
              "        google.colab.kernel.accessAllowed ? 'block' : 'none';\n",
              "\n",
              "      async function convertToInteractive(key) {\n",
              "        const element = document.querySelector('#df-e3cb00c2-2c34-4706-8a55-7124770cfe1a');\n",
              "        const dataTable =\n",
              "          await google.colab.kernel.invokeFunction('convertToInteractive',\n",
              "                                                    [key], {});\n",
              "        if (!dataTable) return;\n",
              "\n",
              "        const docLinkHtml = 'Like what you see? Visit the ' +\n",
              "          '<a target=\"_blank\" href=https://colab.research.google.com/notebooks/data_table.ipynb>data table notebook</a>'\n",
              "          + ' to learn more about interactive tables.';\n",
              "        element.innerHTML = '';\n",
              "        dataTable['output_type'] = 'display_data';\n",
              "        await google.colab.output.renderOutput(dataTable, element);\n",
              "        const docLink = document.createElement('div');\n",
              "        docLink.innerHTML = docLinkHtml;\n",
              "        element.appendChild(docLink);\n",
              "      }\n",
              "    </script>\n",
              "  </div>\n",
              "\n",
              "\n",
              "<div id=\"df-edcfd768-81d6-4893-952b-4cd3f8def9bc\">\n",
              "  <button class=\"colab-df-quickchart\" onclick=\"quickchart('df-edcfd768-81d6-4893-952b-4cd3f8def9bc')\"\n",
              "            title=\"Suggest charts\"\n",
              "            style=\"display:none;\">\n",
              "\n",
              "<svg xmlns=\"http://www.w3.org/2000/svg\" height=\"24px\"viewBox=\"0 0 24 24\"\n",
              "     width=\"24px\">\n",
              "    <g>\n",
              "        <path d=\"M19 3H5c-1.1 0-2 .9-2 2v14c0 1.1.9 2 2 2h14c1.1 0 2-.9 2-2V5c0-1.1-.9-2-2-2zM9 17H7v-7h2v7zm4 0h-2V7h2v10zm4 0h-2v-4h2v4z\"/>\n",
              "    </g>\n",
              "</svg>\n",
              "  </button>\n",
              "\n",
              "<style>\n",
              "  .colab-df-quickchart {\n",
              "      --bg-color: #E8F0FE;\n",
              "      --fill-color: #1967D2;\n",
              "      --hover-bg-color: #E2EBFA;\n",
              "      --hover-fill-color: #174EA6;\n",
              "      --disabled-fill-color: #AAA;\n",
              "      --disabled-bg-color: #DDD;\n",
              "  }\n",
              "\n",
              "  [theme=dark] .colab-df-quickchart {\n",
              "      --bg-color: #3B4455;\n",
              "      --fill-color: #D2E3FC;\n",
              "      --hover-bg-color: #434B5C;\n",
              "      --hover-fill-color: #FFFFFF;\n",
              "      --disabled-bg-color: #3B4455;\n",
              "      --disabled-fill-color: #666;\n",
              "  }\n",
              "\n",
              "  .colab-df-quickchart {\n",
              "    background-color: var(--bg-color);\n",
              "    border: none;\n",
              "    border-radius: 50%;\n",
              "    cursor: pointer;\n",
              "    display: none;\n",
              "    fill: var(--fill-color);\n",
              "    height: 32px;\n",
              "    padding: 0;\n",
              "    width: 32px;\n",
              "  }\n",
              "\n",
              "  .colab-df-quickchart:hover {\n",
              "    background-color: var(--hover-bg-color);\n",
              "    box-shadow: 0 1px 2px rgba(60, 64, 67, 0.3), 0 1px 3px 1px rgba(60, 64, 67, 0.15);\n",
              "    fill: var(--button-hover-fill-color);\n",
              "  }\n",
              "\n",
              "  .colab-df-quickchart-complete:disabled,\n",
              "  .colab-df-quickchart-complete:disabled:hover {\n",
              "    background-color: var(--disabled-bg-color);\n",
              "    fill: var(--disabled-fill-color);\n",
              "    box-shadow: none;\n",
              "  }\n",
              "\n",
              "  .colab-df-spinner {\n",
              "    border: 2px solid var(--fill-color);\n",
              "    border-color: transparent;\n",
              "    border-bottom-color: var(--fill-color);\n",
              "    animation:\n",
              "      spin 1s steps(1) infinite;\n",
              "  }\n",
              "\n",
              "  @keyframes spin {\n",
              "    0% {\n",
              "      border-color: transparent;\n",
              "      border-bottom-color: var(--fill-color);\n",
              "      border-left-color: var(--fill-color);\n",
              "    }\n",
              "    20% {\n",
              "      border-color: transparent;\n",
              "      border-left-color: var(--fill-color);\n",
              "      border-top-color: var(--fill-color);\n",
              "    }\n",
              "    30% {\n",
              "      border-color: transparent;\n",
              "      border-left-color: var(--fill-color);\n",
              "      border-top-color: var(--fill-color);\n",
              "      border-right-color: var(--fill-color);\n",
              "    }\n",
              "    40% {\n",
              "      border-color: transparent;\n",
              "      border-right-color: var(--fill-color);\n",
              "      border-top-color: var(--fill-color);\n",
              "    }\n",
              "    60% {\n",
              "      border-color: transparent;\n",
              "      border-right-color: var(--fill-color);\n",
              "    }\n",
              "    80% {\n",
              "      border-color: transparent;\n",
              "      border-right-color: var(--fill-color);\n",
              "      border-bottom-color: var(--fill-color);\n",
              "    }\n",
              "    90% {\n",
              "      border-color: transparent;\n",
              "      border-bottom-color: var(--fill-color);\n",
              "    }\n",
              "  }\n",
              "</style>\n",
              "\n",
              "  <script>\n",
              "    async function quickchart(key) {\n",
              "      const quickchartButtonEl =\n",
              "        document.querySelector('#' + key + ' button');\n",
              "      quickchartButtonEl.disabled = true;  // To prevent multiple clicks.\n",
              "      quickchartButtonEl.classList.add('colab-df-spinner');\n",
              "      try {\n",
              "        const charts = await google.colab.kernel.invokeFunction(\n",
              "            'suggestCharts', [key], {});\n",
              "      } catch (error) {\n",
              "        console.error('Error during call to suggestCharts:', error);\n",
              "      }\n",
              "      quickchartButtonEl.classList.remove('colab-df-spinner');\n",
              "      quickchartButtonEl.classList.add('colab-df-quickchart-complete');\n",
              "    }\n",
              "    (() => {\n",
              "      let quickchartButtonEl =\n",
              "        document.querySelector('#df-edcfd768-81d6-4893-952b-4cd3f8def9bc button');\n",
              "      quickchartButtonEl.style.display =\n",
              "        google.colab.kernel.accessAllowed ? 'block' : 'none';\n",
              "    })();\n",
              "  </script>\n",
              "</div>\n",
              "\n",
              "    </div>\n",
              "  </div>\n"
            ]
          },
          "metadata": {},
          "execution_count": 43
        }
      ]
    },
    {
      "cell_type": "code",
      "source": [
        "# getting info about Actor 1\n",
        "Actor_1 = actor1.get_group('Mimoh Chakraborty')\n",
        "Actor_1"
      ],
      "metadata": {
        "colab": {
          "base_uri": "https://localhost:8080/",
          "height": 206
        },
        "id": "MTrPpo7qE7bo",
        "outputId": "e3a4b17d-fb6c-4b52-f70f-dec874f4f23c"
      },
      "execution_count": 44,
      "outputs": [
        {
          "output_type": "execute_result",
          "data": {
            "text/plain": [
              "                                Name    Year Duration                 Genre  \\\n",
              "5624               He - The Only One  (2010)  120 min                Action   \n",
              "6209                  Ishqedarriyaan  (2015)  132 min               Romance   \n",
              "6744                           Jimmy  (2008)  120 min  Action, Crime, Drama   \n",
              "14183  The Murderer: Hamilton Palace  (2011)  108 min       Action, Mystery   \n",
              "14499                    Tukkaa Fitt  (2018)  120 min                 Drama   \n",
              "\n",
              "       Rating  Votes        Director            Actor 1             Actor 2  \\\n",
              "5624        5      8  Tejas Dhhanraj  Mimoh Chakraborty  Mithun Chakraborty   \n",
              "6209        4    151    V.K. Prakash  Mimoh Chakraborty          Kavin Dave   \n",
              "6744        1    249    Raj N. Sippy  Mimoh Chakraborty         Vikas Anand   \n",
              "14183       4     10    Raj N. Sippy  Mimoh Chakraborty       Milind Gunaji   \n",
              "14499       6     13   Shawn Arranha  Mimoh Chakraborty        Kurush Deboo   \n",
              "\n",
              "              Actor 3  \n",
              "5624      Neena Gupta  \n",
              "6209      Mohit Dutta  \n",
              "6744        Rahul Dev  \n",
              "14183   Shakti Kapoor  \n",
              "14499  Vaishali Desai  "
            ],
            "text/html": [
              "\n",
              "  <div id=\"df-1d25a463-4d91-4a74-b9ea-fc18b39f89b4\" class=\"colab-df-container\">\n",
              "    <div>\n",
              "<style scoped>\n",
              "    .dataframe tbody tr th:only-of-type {\n",
              "        vertical-align: middle;\n",
              "    }\n",
              "\n",
              "    .dataframe tbody tr th {\n",
              "        vertical-align: top;\n",
              "    }\n",
              "\n",
              "    .dataframe thead th {\n",
              "        text-align: right;\n",
              "    }\n",
              "</style>\n",
              "<table border=\"1\" class=\"dataframe\">\n",
              "  <thead>\n",
              "    <tr style=\"text-align: right;\">\n",
              "      <th></th>\n",
              "      <th>Name</th>\n",
              "      <th>Year</th>\n",
              "      <th>Duration</th>\n",
              "      <th>Genre</th>\n",
              "      <th>Rating</th>\n",
              "      <th>Votes</th>\n",
              "      <th>Director</th>\n",
              "      <th>Actor 1</th>\n",
              "      <th>Actor 2</th>\n",
              "      <th>Actor 3</th>\n",
              "    </tr>\n",
              "  </thead>\n",
              "  <tbody>\n",
              "    <tr>\n",
              "      <th>5624</th>\n",
              "      <td>He - The Only One</td>\n",
              "      <td>(2010)</td>\n",
              "      <td>120 min</td>\n",
              "      <td>Action</td>\n",
              "      <td>5</td>\n",
              "      <td>8</td>\n",
              "      <td>Tejas Dhhanraj</td>\n",
              "      <td>Mimoh Chakraborty</td>\n",
              "      <td>Mithun Chakraborty</td>\n",
              "      <td>Neena Gupta</td>\n",
              "    </tr>\n",
              "    <tr>\n",
              "      <th>6209</th>\n",
              "      <td>Ishqedarriyaan</td>\n",
              "      <td>(2015)</td>\n",
              "      <td>132 min</td>\n",
              "      <td>Romance</td>\n",
              "      <td>4</td>\n",
              "      <td>151</td>\n",
              "      <td>V.K. Prakash</td>\n",
              "      <td>Mimoh Chakraborty</td>\n",
              "      <td>Kavin Dave</td>\n",
              "      <td>Mohit Dutta</td>\n",
              "    </tr>\n",
              "    <tr>\n",
              "      <th>6744</th>\n",
              "      <td>Jimmy</td>\n",
              "      <td>(2008)</td>\n",
              "      <td>120 min</td>\n",
              "      <td>Action, Crime, Drama</td>\n",
              "      <td>1</td>\n",
              "      <td>249</td>\n",
              "      <td>Raj N. Sippy</td>\n",
              "      <td>Mimoh Chakraborty</td>\n",
              "      <td>Vikas Anand</td>\n",
              "      <td>Rahul Dev</td>\n",
              "    </tr>\n",
              "    <tr>\n",
              "      <th>14183</th>\n",
              "      <td>The Murderer: Hamilton Palace</td>\n",
              "      <td>(2011)</td>\n",
              "      <td>108 min</td>\n",
              "      <td>Action, Mystery</td>\n",
              "      <td>4</td>\n",
              "      <td>10</td>\n",
              "      <td>Raj N. Sippy</td>\n",
              "      <td>Mimoh Chakraborty</td>\n",
              "      <td>Milind Gunaji</td>\n",
              "      <td>Shakti Kapoor</td>\n",
              "    </tr>\n",
              "    <tr>\n",
              "      <th>14499</th>\n",
              "      <td>Tukkaa Fitt</td>\n",
              "      <td>(2018)</td>\n",
              "      <td>120 min</td>\n",
              "      <td>Drama</td>\n",
              "      <td>6</td>\n",
              "      <td>13</td>\n",
              "      <td>Shawn Arranha</td>\n",
              "      <td>Mimoh Chakraborty</td>\n",
              "      <td>Kurush Deboo</td>\n",
              "      <td>Vaishali Desai</td>\n",
              "    </tr>\n",
              "  </tbody>\n",
              "</table>\n",
              "</div>\n",
              "    <div class=\"colab-df-buttons\">\n",
              "\n",
              "  <div class=\"colab-df-container\">\n",
              "    <button class=\"colab-df-convert\" onclick=\"convertToInteractive('df-1d25a463-4d91-4a74-b9ea-fc18b39f89b4')\"\n",
              "            title=\"Convert this dataframe to an interactive table.\"\n",
              "            style=\"display:none;\">\n",
              "\n",
              "  <svg xmlns=\"http://www.w3.org/2000/svg\" height=\"24px\" viewBox=\"0 -960 960 960\">\n",
              "    <path d=\"M120-120v-720h720v720H120Zm60-500h600v-160H180v160Zm220 220h160v-160H400v160Zm0 220h160v-160H400v160ZM180-400h160v-160H180v160Zm440 0h160v-160H620v160ZM180-180h160v-160H180v160Zm440 0h160v-160H620v160Z\"/>\n",
              "  </svg>\n",
              "    </button>\n",
              "\n",
              "  <style>\n",
              "    .colab-df-container {\n",
              "      display:flex;\n",
              "      gap: 12px;\n",
              "    }\n",
              "\n",
              "    .colab-df-convert {\n",
              "      background-color: #E8F0FE;\n",
              "      border: none;\n",
              "      border-radius: 50%;\n",
              "      cursor: pointer;\n",
              "      display: none;\n",
              "      fill: #1967D2;\n",
              "      height: 32px;\n",
              "      padding: 0 0 0 0;\n",
              "      width: 32px;\n",
              "    }\n",
              "\n",
              "    .colab-df-convert:hover {\n",
              "      background-color: #E2EBFA;\n",
              "      box-shadow: 0px 1px 2px rgba(60, 64, 67, 0.3), 0px 1px 3px 1px rgba(60, 64, 67, 0.15);\n",
              "      fill: #174EA6;\n",
              "    }\n",
              "\n",
              "    .colab-df-buttons div {\n",
              "      margin-bottom: 4px;\n",
              "    }\n",
              "\n",
              "    [theme=dark] .colab-df-convert {\n",
              "      background-color: #3B4455;\n",
              "      fill: #D2E3FC;\n",
              "    }\n",
              "\n",
              "    [theme=dark] .colab-df-convert:hover {\n",
              "      background-color: #434B5C;\n",
              "      box-shadow: 0px 1px 3px 1px rgba(0, 0, 0, 0.15);\n",
              "      filter: drop-shadow(0px 1px 2px rgba(0, 0, 0, 0.3));\n",
              "      fill: #FFFFFF;\n",
              "    }\n",
              "  </style>\n",
              "\n",
              "    <script>\n",
              "      const buttonEl =\n",
              "        document.querySelector('#df-1d25a463-4d91-4a74-b9ea-fc18b39f89b4 button.colab-df-convert');\n",
              "      buttonEl.style.display =\n",
              "        google.colab.kernel.accessAllowed ? 'block' : 'none';\n",
              "\n",
              "      async function convertToInteractive(key) {\n",
              "        const element = document.querySelector('#df-1d25a463-4d91-4a74-b9ea-fc18b39f89b4');\n",
              "        const dataTable =\n",
              "          await google.colab.kernel.invokeFunction('convertToInteractive',\n",
              "                                                    [key], {});\n",
              "        if (!dataTable) return;\n",
              "\n",
              "        const docLinkHtml = 'Like what you see? Visit the ' +\n",
              "          '<a target=\"_blank\" href=https://colab.research.google.com/notebooks/data_table.ipynb>data table notebook</a>'\n",
              "          + ' to learn more about interactive tables.';\n",
              "        element.innerHTML = '';\n",
              "        dataTable['output_type'] = 'display_data';\n",
              "        await google.colab.output.renderOutput(dataTable, element);\n",
              "        const docLink = document.createElement('div');\n",
              "        docLink.innerHTML = docLinkHtml;\n",
              "        element.appendChild(docLink);\n",
              "      }\n",
              "    </script>\n",
              "  </div>\n",
              "\n",
              "\n",
              "<div id=\"df-a28f3047-40a7-4996-b471-3fd7afe10767\">\n",
              "  <button class=\"colab-df-quickchart\" onclick=\"quickchart('df-a28f3047-40a7-4996-b471-3fd7afe10767')\"\n",
              "            title=\"Suggest charts\"\n",
              "            style=\"display:none;\">\n",
              "\n",
              "<svg xmlns=\"http://www.w3.org/2000/svg\" height=\"24px\"viewBox=\"0 0 24 24\"\n",
              "     width=\"24px\">\n",
              "    <g>\n",
              "        <path d=\"M19 3H5c-1.1 0-2 .9-2 2v14c0 1.1.9 2 2 2h14c1.1 0 2-.9 2-2V5c0-1.1-.9-2-2-2zM9 17H7v-7h2v7zm4 0h-2V7h2v10zm4 0h-2v-4h2v4z\"/>\n",
              "    </g>\n",
              "</svg>\n",
              "  </button>\n",
              "\n",
              "<style>\n",
              "  .colab-df-quickchart {\n",
              "      --bg-color: #E8F0FE;\n",
              "      --fill-color: #1967D2;\n",
              "      --hover-bg-color: #E2EBFA;\n",
              "      --hover-fill-color: #174EA6;\n",
              "      --disabled-fill-color: #AAA;\n",
              "      --disabled-bg-color: #DDD;\n",
              "  }\n",
              "\n",
              "  [theme=dark] .colab-df-quickchart {\n",
              "      --bg-color: #3B4455;\n",
              "      --fill-color: #D2E3FC;\n",
              "      --hover-bg-color: #434B5C;\n",
              "      --hover-fill-color: #FFFFFF;\n",
              "      --disabled-bg-color: #3B4455;\n",
              "      --disabled-fill-color: #666;\n",
              "  }\n",
              "\n",
              "  .colab-df-quickchart {\n",
              "    background-color: var(--bg-color);\n",
              "    border: none;\n",
              "    border-radius: 50%;\n",
              "    cursor: pointer;\n",
              "    display: none;\n",
              "    fill: var(--fill-color);\n",
              "    height: 32px;\n",
              "    padding: 0;\n",
              "    width: 32px;\n",
              "  }\n",
              "\n",
              "  .colab-df-quickchart:hover {\n",
              "    background-color: var(--hover-bg-color);\n",
              "    box-shadow: 0 1px 2px rgba(60, 64, 67, 0.3), 0 1px 3px 1px rgba(60, 64, 67, 0.15);\n",
              "    fill: var(--button-hover-fill-color);\n",
              "  }\n",
              "\n",
              "  .colab-df-quickchart-complete:disabled,\n",
              "  .colab-df-quickchart-complete:disabled:hover {\n",
              "    background-color: var(--disabled-bg-color);\n",
              "    fill: var(--disabled-fill-color);\n",
              "    box-shadow: none;\n",
              "  }\n",
              "\n",
              "  .colab-df-spinner {\n",
              "    border: 2px solid var(--fill-color);\n",
              "    border-color: transparent;\n",
              "    border-bottom-color: var(--fill-color);\n",
              "    animation:\n",
              "      spin 1s steps(1) infinite;\n",
              "  }\n",
              "\n",
              "  @keyframes spin {\n",
              "    0% {\n",
              "      border-color: transparent;\n",
              "      border-bottom-color: var(--fill-color);\n",
              "      border-left-color: var(--fill-color);\n",
              "    }\n",
              "    20% {\n",
              "      border-color: transparent;\n",
              "      border-left-color: var(--fill-color);\n",
              "      border-top-color: var(--fill-color);\n",
              "    }\n",
              "    30% {\n",
              "      border-color: transparent;\n",
              "      border-left-color: var(--fill-color);\n",
              "      border-top-color: var(--fill-color);\n",
              "      border-right-color: var(--fill-color);\n",
              "    }\n",
              "    40% {\n",
              "      border-color: transparent;\n",
              "      border-right-color: var(--fill-color);\n",
              "      border-top-color: var(--fill-color);\n",
              "    }\n",
              "    60% {\n",
              "      border-color: transparent;\n",
              "      border-right-color: var(--fill-color);\n",
              "    }\n",
              "    80% {\n",
              "      border-color: transparent;\n",
              "      border-right-color: var(--fill-color);\n",
              "      border-bottom-color: var(--fill-color);\n",
              "    }\n",
              "    90% {\n",
              "      border-color: transparent;\n",
              "      border-bottom-color: var(--fill-color);\n",
              "    }\n",
              "  }\n",
              "</style>\n",
              "\n",
              "  <script>\n",
              "    async function quickchart(key) {\n",
              "      const quickchartButtonEl =\n",
              "        document.querySelector('#' + key + ' button');\n",
              "      quickchartButtonEl.disabled = true;  // To prevent multiple clicks.\n",
              "      quickchartButtonEl.classList.add('colab-df-spinner');\n",
              "      try {\n",
              "        const charts = await google.colab.kernel.invokeFunction(\n",
              "            'suggestCharts', [key], {});\n",
              "      } catch (error) {\n",
              "        console.error('Error during call to suggestCharts:', error);\n",
              "      }\n",
              "      quickchartButtonEl.classList.remove('colab-df-spinner');\n",
              "      quickchartButtonEl.classList.add('colab-df-quickchart-complete');\n",
              "    }\n",
              "    (() => {\n",
              "      let quickchartButtonEl =\n",
              "        document.querySelector('#df-a28f3047-40a7-4996-b471-3fd7afe10767 button');\n",
              "      quickchartButtonEl.style.display =\n",
              "        google.colab.kernel.accessAllowed ? 'block' : 'none';\n",
              "    })();\n",
              "  </script>\n",
              "</div>\n",
              "\n",
              "  <div id=\"id_7dd6656d-d113-40d6-9f50-d3f3f5e6ebb1\">\n",
              "    <style>\n",
              "      .colab-df-generate {\n",
              "        background-color: #E8F0FE;\n",
              "        border: none;\n",
              "        border-radius: 50%;\n",
              "        cursor: pointer;\n",
              "        display: none;\n",
              "        fill: #1967D2;\n",
              "        height: 32px;\n",
              "        padding: 0 0 0 0;\n",
              "        width: 32px;\n",
              "      }\n",
              "\n",
              "      .colab-df-generate:hover {\n",
              "        background-color: #E2EBFA;\n",
              "        box-shadow: 0px 1px 2px rgba(60, 64, 67, 0.3), 0px 1px 3px 1px rgba(60, 64, 67, 0.15);\n",
              "        fill: #174EA6;\n",
              "      }\n",
              "\n",
              "      [theme=dark] .colab-df-generate {\n",
              "        background-color: #3B4455;\n",
              "        fill: #D2E3FC;\n",
              "      }\n",
              "\n",
              "      [theme=dark] .colab-df-generate:hover {\n",
              "        background-color: #434B5C;\n",
              "        box-shadow: 0px 1px 3px 1px rgba(0, 0, 0, 0.15);\n",
              "        filter: drop-shadow(0px 1px 2px rgba(0, 0, 0, 0.3));\n",
              "        fill: #FFFFFF;\n",
              "      }\n",
              "    </style>\n",
              "    <button class=\"colab-df-generate\" onclick=\"generateWithVariable('Actor_1')\"\n",
              "            title=\"Generate code using this dataframe.\"\n",
              "            style=\"display:none;\">\n",
              "\n",
              "  <svg xmlns=\"http://www.w3.org/2000/svg\" height=\"24px\"viewBox=\"0 0 24 24\"\n",
              "       width=\"24px\">\n",
              "    <path d=\"M7,19H8.4L18.45,9,17,7.55,7,17.6ZM5,21V16.75L18.45,3.32a2,2,0,0,1,2.83,0l1.4,1.43a1.91,1.91,0,0,1,.58,1.4,1.91,1.91,0,0,1-.58,1.4L9.25,21ZM18.45,9,17,7.55Zm-12,3A5.31,5.31,0,0,0,4.9,8.1,5.31,5.31,0,0,0,1,6.5,5.31,5.31,0,0,0,4.9,4.9,5.31,5.31,0,0,0,6.5,1,5.31,5.31,0,0,0,8.1,4.9,5.31,5.31,0,0,0,12,6.5,5.46,5.46,0,0,0,6.5,12Z\"/>\n",
              "  </svg>\n",
              "    </button>\n",
              "    <script>\n",
              "      (() => {\n",
              "      const buttonEl =\n",
              "        document.querySelector('#id_7dd6656d-d113-40d6-9f50-d3f3f5e6ebb1 button.colab-df-generate');\n",
              "      buttonEl.style.display =\n",
              "        google.colab.kernel.accessAllowed ? 'block' : 'none';\n",
              "\n",
              "      buttonEl.onclick = () => {\n",
              "        google.colab.notebook.generateWithVariable('Actor_1');\n",
              "      }\n",
              "      })();\n",
              "    </script>\n",
              "  </div>\n",
              "\n",
              "    </div>\n",
              "  </div>\n"
            ]
          },
          "metadata": {},
          "execution_count": 44
        }
      ]
    },
    {
      "cell_type": "code",
      "source": [
        "Actor1_Ratings = movies_data[movies_data['Actor 1'].str.contains('Sanjay Dutt')==True]\n",
        "Actor1_Ratings.groupby(['Actor 1', 'Rating']).size().unstack().plot(kind = 'bar', stacked = False, xlabel = 'Actor 1', ylabel = 'Ratings')"
      ],
      "metadata": {
        "colab": {
          "base_uri": "https://localhost:8080/",
          "height": 534
        },
        "id": "sGbBdARdKhJM",
        "outputId": "377f0387-1c74-4269-c572-3f9b14b29b2e"
      },
      "execution_count": 45,
      "outputs": [
        {
          "output_type": "execute_result",
          "data": {
            "text/plain": [
              "<Axes: xlabel='Actor 1', ylabel='Ratings'>"
            ]
          },
          "metadata": {},
          "execution_count": 45
        },
        {
          "output_type": "display_data",
          "data": {
            "text/plain": [
              "<Figure size 640x480 with 1 Axes>"
            ],
            "image/png": "[encoded data removed]"
          },
          "metadata": {}
        }
      ]
    },
    {
      "cell_type": "code",
      "source": [
        "Actor2_Ratings = movies_data[movies_data['Actor 2'].str.contains('Ameesha Patel')==True]\n",
        "Actor2_Ratings.groupby(['Actor 2', 'Rating']).size().unstack().plot(kind = 'bar', stacked = False, xlabel = 'Actor 2', ylabel = 'Ratings')"
      ],
      "metadata": {
        "colab": {
          "base_uri": "https://localhost:8080/",
          "height": 556
        },
        "id": "U6Fo4zM0cce4",
        "outputId": "4a158f0b-7835-452f-82e7-34c56e32f9a4"
      },
      "execution_count": 46,
      "outputs": [
        {
          "output_type": "execute_result",
          "data": {
            "text/plain": [
              "<Axes: xlabel='Actor 2', ylabel='Ratings'>"
            ]
          },
          "metadata": {},
          "execution_count": 46
        },
        {
          "output_type": "display_data",
          "data": {
            "text/plain": [
              "<Figure size 640x480 with 1 Axes>"
            ],
            "image/png": "[encoded data removed]"
          },
          "metadata": {}
        }
      ]
    },
    {
      "cell_type": "code",
      "source": [
        "Actor3_Ratings = movies_data[movies_data['Actor 3'].str.contains('Anupam Kher')==True]\n",
        "Actor3_Ratings.groupby(['Actor 3', 'Rating']).size().unstack().plot(kind = 'bar', stacked = False, xlabel = 'Actor 3', ylabel = 'Ratings')"
      ],
      "metadata": {
        "colab": {
          "base_uri": "https://localhost:8080/",
          "height": 547
        },
        "id": "utYw_TPrEet4",
        "outputId": "4d4808e3-a12e-4d17-9be8-470f006b0937"
      },
      "execution_count": 47,
      "outputs": [
        {
          "output_type": "execute_result",
          "data": {
            "text/plain": [
              "<Axes: xlabel='Actor 3', ylabel='Ratings'>"
            ]
          },
          "metadata": {},
          "execution_count": 47
        },
        {
          "output_type": "display_data",
          "data": {
            "text/plain": [
              "<Figure size 640x480 with 1 Axes>"
            ],
            "image/png": "[encoded data removed]"
          },
          "metadata": {}
        }
      ]
    },
    {
      "cell_type": "code",
      "source": [
        "Director_Ratings = movies_data[movies_data['Director'].str.contains('Ajay Chandhok')==True]\n",
        "Director_Ratings.groupby(['Director', 'Rating']).size().unstack().plot(kind = 'bar', stacked = False, xlabel = 'Director', ylabel = 'Ratings')"
      ],
      "metadata": {
        "colab": {
          "base_uri": "https://localhost:8080/",
          "height": 557
        },
        "id": "jq_WLp7wewN4",
        "outputId": "7cbdaf14-d0ac-4b3f-9c4d-ec3748b9c353"
      },
      "execution_count": 48,
      "outputs": [
        {
          "output_type": "execute_result",
          "data": {
            "text/plain": [
              "<Axes: xlabel='Director', ylabel='Ratings'>"
            ]
          },
          "metadata": {},
          "execution_count": 48
        },
        {
          "output_type": "display_data",
          "data": {
            "text/plain": [
              "<Figure size 640x480 with 1 Axes>"
            ],
            "image/png": "[encoded data removed]"
          },
          "metadata": {}
        }
      ]
    },
    {
      "cell_type": "markdown",
      "source": [
        "Separate the columns containing the Feature variables and Target variables"
      ],
      "metadata": {
        "id": "lkiiqvMDmPRq"
      }
    },
    {
      "cell_type": "code",
      "source": [
        "# Split data into features and target variable\n",
        "X = movies_data[['Genre', 'Director', 'Actor 1', 'Actor 2', 'Actor 3', 'Votes']]\n",
        "Y = movies_data['Rating']"
      ],
      "metadata": {
        "id": "7Yfggl3deyxK"
      },
      "execution_count": 49,
      "outputs": []
    },
    {
      "cell_type": "code",
      "source": [
        "# viewing the independent variable\n",
        "print(X)"
      ],
      "metadata": {
        "colab": {
          "base_uri": "https://localhost:8080/"
        },
        "id": "nSaszyCRewFU",
        "outputId": "71f4a8ee-48ed-430b-f295-7c5df6625616"
      },
      "execution_count": 50,
      "outputs": [
        {
          "output_type": "stream",
          "name": "stdout",
          "text": [
            "                 Genre            Director           Actor 1  \\\n",
            "0                Drama       J.S. Randhawa          Manmauji   \n",
            "1                Drama       Gaurav Bakshi      Rasika Dugal   \n",
            "2       Drama, Musical  Soumyajit Majumdar      Sayani Gupta   \n",
            "3      Comedy, Romance          Ovais Khan           Prateik   \n",
            "4                Drama        Amol Palekar      Rajat Kapoor   \n",
            "...                ...                 ...               ...   \n",
            "15504           Action       Mahendra Shah  Naseeruddin Shah   \n",
            "15505    Action, Drama          Kuku Kohli      Akshay Kumar   \n",
            "15506           Action          Kiran Thej   Sangeeta Tiwari   \n",
            "15507           Action        Jayant Desai      Jayant Desai   \n",
            "15508    Action, Drama        K.C. Bokadia        Dharmendra   \n",
            "\n",
            "                  Actor 2          Actor 3  Votes  \n",
            "0                  Birbal  Rajendra Bhatia      8  \n",
            "1          Vivek Ghamande    Arvind Jangid      8  \n",
            "2       Plabita Borthakur       Roy Angana      8  \n",
            "3              Ishita Raj  Siddhant Kapoor     35  \n",
            "4      Rituparna Sengupta      Antara Mali      8  \n",
            "...                   ...              ...    ...  \n",
            "15504       Sumeet Saigal    Suparna Anand     11  \n",
            "15505      Twinkle Khanna      Aruna Irani    655  \n",
            "15506               Rekha             Pran      8  \n",
            "15507               Rekha             Pran      8  \n",
            "15508          Jaya Prada      Arjun Sarja     20  \n",
            "\n",
            "[14137 rows x 6 columns]\n"
          ]
        }
      ]
    },
    {
      "cell_type": "code",
      "source": [
        "# Viewing the target variable\n",
        "print(Y)"
      ],
      "metadata": {
        "colab": {
          "base_uri": "https://localhost:8080/"
        },
        "id": "Iy3BExp1es-g",
        "outputId": "f4923d62-f79d-411f-c032-de0527ecb648"
      },
      "execution_count": 51,
      "outputs": [
        {
          "output_type": "stream",
          "name": "stdout",
          "text": [
            "0        5\n",
            "1        7\n",
            "2        5\n",
            "3        4\n",
            "4        5\n",
            "        ..\n",
            "15504    4\n",
            "15505    4\n",
            "15506    5\n",
            "15507    5\n",
            "15508    6\n",
            "Name: Rating, Length: 14137, dtype: int64\n"
          ]
        }
      ]
    },
    {
      "cell_type": "markdown",
      "source": [
        "Splitting the data into train data and test data"
      ],
      "metadata": {
        "id": "xRJ_rP7BnvDo"
      }
    },
    {
      "cell_type": "code",
      "source": [
        "# Train-test split\n",
        "X_train, X_test, Y_train, Y_test = train_test_split(X, Y, test_size=0.2, random_state=42)"
      ],
      "metadata": {
        "id": "SUhaFdB-nwrb"
      },
      "execution_count": 52,
      "outputs": []
    },
    {
      "cell_type": "code",
      "source": [
        "X_train = X_train.reset_index(drop=True)\n",
        "Y_train = Y_train.reset_index(drop=True)\n"
      ],
      "metadata": {
        "id": "vKE0kEvG4USI"
      },
      "execution_count": 53,
      "outputs": []
    },
    {
      "cell_type": "code",
      "source": [
        "print(X.shape, X_train.shape, X_test.shape)"
      ],
      "metadata": {
        "colab": {
          "base_uri": "https://localhost:8080/"
        },
        "id": "y69CwKog1KTo",
        "outputId": "fe2d1f2c-6ae1-45e6-c144-1af7404390d6"
      },
      "execution_count": 54,
      "outputs": [
        {
          "output_type": "stream",
          "name": "stdout",
          "text": [
            "(14137, 6) (11309, 6) (2828, 6)\n"
          ]
        }
      ]
    },
    {
      "cell_type": "code",
      "source": [
        "Y_train = X_train.dropna()\n",
        "Y_train = Y_train.loc[X_train.index]\n"
      ],
      "metadata": {
        "id": "NM78R1zP4HGz"
      },
      "execution_count": 55,
      "outputs": []
    },
    {
      "cell_type": "code",
      "source": [
        "print(\"Number of samples in X_train:\", X_train.shape[0])\n",
        "print(\"Number of samples in Y_train:\", Y_train.shape[0])\n"
      ],
      "metadata": {
        "colab": {
          "base_uri": "https://localhost:8080/"
        },
        "id": "iSEbOZol4cf5",
        "outputId": "027ff947-895c-4244-a893-cab5341adbe1"
      },
      "execution_count": 56,
      "outputs": [
        {
          "output_type": "stream",
          "name": "stdout",
          "text": [
            "Number of samples in X_train: 11309\n",
            "Number of samples in Y_train: 11309\n"
          ]
        }
      ]
    },
    {
      "cell_type": "code",
      "source": [
        "# # Ensure both training and test sets have the same categories in 'genre'\n",
        "# common_genres = set(X_train['Genre']).intersection(X_test['Genre'])\n",
        "# X_train = X_train[X_train['Genre'].isin(common_genres)]\n",
        "# X_test = X_test[X_test['Genre'].isin(common_genres)]\n",
        "\n"
      ],
      "metadata": {
        "id": "lDtzL0HJEOlR"
      },
      "execution_count": 57,
      "outputs": []
    },
    {
      "cell_type": "code",
      "source": [
        "# Reset indices to ensure alignment\n",
        "X_train = X_train.reset_index(drop=True)\n",
        "Y_train = Y_train.reset_index(drop=True)\n",
        "\n",
        "# Now, both X_train and y_train have the same indices\n"
      ],
      "metadata": {
        "id": "9y-WHNd1dlMV"
      },
      "execution_count": 58,
      "outputs": []
    },
    {
      "cell_type": "code",
      "source": [
        "# Reset indices to ensure alignment for testing set\n",
        "X_test = X_test.reset_index(drop=True)\n",
        "Y_test = Y_test.reset_index(drop=True)"
      ],
      "metadata": {
        "id": "1eXVmmamfgmo"
      },
      "execution_count": 59,
      "outputs": []
    },
    {
      "cell_type": "code",
      "source": [
        "print(\"Number of samples in X_test:\", X_test.shape[0])\n",
        "print(\"Number of samples in Y_test:\", Y_test.shape[0])\n"
      ],
      "metadata": {
        "colab": {
          "base_uri": "https://localhost:8080/"
        },
        "id": "WJizA8LIES4b",
        "outputId": "5aef04fd-6c34-45c9-830e-58e5a55c4847"
      },
      "execution_count": 60,
      "outputs": [
        {
          "output_type": "stream",
          "name": "stdout",
          "text": [
            "Number of samples in X_test: 2828\n",
            "Number of samples in Y_test: 2828\n"
          ]
        }
      ]
    },
    {
      "cell_type": "code",
      "source": [
        "print(\"X_train shape:\", X_train.shape)\n",
        "print(\"Y_train shape:\", Y_train.shape)\n",
        "print(\"X_test shape:\", X_test.shape)\n",
        "print(\"Y_test shape:\", Y_test.shape)\n"
      ],
      "metadata": {
        "colab": {
          "base_uri": "https://localhost:8080/"
        },
        "id": "7raxifNwE2kh",
        "outputId": "c9bea031-b8e1-4b16-805b-42c62aadcb5b"
      },
      "execution_count": 61,
      "outputs": [
        {
          "output_type": "stream",
          "name": "stdout",
          "text": [
            "X_train shape: (11309, 6)\n",
            "Y_train shape: (11309, 6)\n",
            "X_test shape: (2828, 6)\n",
            "Y_test shape: (2828,)\n"
          ]
        }
      ]
    },
    {
      "cell_type": "markdown",
      "source": [
        "Training the Model\n",
        "\n",
        "Using Linear Regression"
      ],
      "metadata": {
        "id": "6f50JY8q1dum"
      }
    },
    {
      "cell_type": "code",
      "source": [
        "# Define preprocessing steps\n",
        "preprocessor = ColumnTransformer(\n",
        "    transformers=[\n",
        "        ('onehot', OneHotEncoder(), ['Genre', 'Director', 'Actor 1', 'Actor 2', 'Actor 3'])\n",
        "    ])"
      ],
      "metadata": {
        "id": "J7lDsLHmvksX"
      },
      "execution_count": 62,
      "outputs": []
    },
    {
      "cell_type": "code",
      "source": [
        "# Define the model\n",
        "model = Pipeline(steps=[('preprocessor', preprocessor),\n",
        "                        ('regressor', LinearRegression())])\n"
      ],
      "metadata": {
        "id": "lOzANm5knOSB"
      },
      "execution_count": 63,
      "outputs": []
    },
    {
      "cell_type": "code",
      "source": [
        "# Combine training and testing sets\n",
        "combined_X = pd.concat([X_train, X_test], axis=0)\n"
      ],
      "metadata": {
        "id": "5XeO5XjZpeZ1"
      },
      "execution_count": 64,
      "outputs": []
    },
    {
      "cell_type": "code",
      "source": [
        "# Create an instance of OneHotEncoder with handle_unknown='ignore'\n",
        "onehot_encoder = OneHotEncoder(handle_unknown='ignore')\n"
      ],
      "metadata": {
        "id": "XgimoqZ71Pah"
      },
      "execution_count": 65,
      "outputs": []
    },
    {
      "cell_type": "code",
      "source": [
        "# Combine training and testing sets\n",
        "combined_X = pd.concat([X_train, X_test], axis=0)"
      ],
      "metadata": {
        "id": "IXdh2d1kyhrv"
      },
      "execution_count": 66,
      "outputs": []
    },
    {
      "cell_type": "code",
      "source": [
        "# Assuming combined_X is your DataFrame and 'Genre', 'Director', 'Actor 1', 'Actor 2', 'Actor 3' are the categorical columns\n",
        "label_encoder = LabelEncoder()\n",
        "\n",
        "# Apply Label Encoding to categorical columns\n",
        "combined_X['Genre'] = label_encoder.fit_transform(combined_X['Genre'])\n",
        "combined_X['Director'] = label_encoder.fit_transform(combined_X['Director'])\n",
        "combined_X['Actor 1'] = label_encoder.fit_transform(combined_X['Actor 1'])\n",
        "combined_X['Actor 2'] = label_encoder.fit_transform(combined_X['Actor 2'])\n",
        "combined_X['Actor 3'] = label_encoder.fit_transform(combined_X['Actor 3'])"
      ],
      "metadata": {
        "id": "FD3r9AyR18yp"
      },
      "execution_count": 67,
      "outputs": []
    },
    {
      "cell_type": "code",
      "source": [
        "# Reset indices to ensure alignment\n",
        "X_train_encoded = combined_X.iloc[:len(X_train), :].reset_index(drop=True)\n",
        "X_test_encoded = combined_X.iloc[len(X_train):, :].reset_index(drop=True)\n",
        "\n"
      ],
      "metadata": {
        "id": "za9U17gL0TyC"
      },
      "execution_count": 68,
      "outputs": []
    },
    {
      "cell_type": "code",
      "source": [
        "print(\"X_train_encoded shape:\", X_train_encoded.shape)\n",
        "print(\"Y_train_encoded shape:\", Y_train_encoded.shape)\n"
      ],
      "metadata": {
        "colab": {
          "base_uri": "https://localhost:8080/"
        },
        "id": "TmhuUmFWllkh",
        "outputId": "4e7b53ec-f0fe-4aab-fb98-b37c5019e311"
      },
      "execution_count": 70,
      "outputs": [
        {
          "output_type": "stream",
          "name": "stdout",
          "text": [
            "X_train_encoded shape: (11309, 6)\n",
            "Y_train_encoded shape: (6, 16)\n"
          ]
        }
      ]
    },
    {
      "cell_type": "code",
      "source": [
        "# Split the data into training and testing sets\n",
        "X_train, X_test, Y_train, Y_test = train_test_split(X, Y, test_size=0.2, random_state=42)"
      ],
      "metadata": {
        "id": "ELgURQUullcE"
      },
      "execution_count": 71,
      "outputs": []
    },
    {
      "cell_type": "code",
      "source": [
        "from sklearn.preprocessing import OneHotEncoder, LabelEncoder\n",
        "from sklearn.model_selection import train_test_split"
      ],
      "metadata": {
        "id": "8kb6vMTJnjkZ"
      },
      "execution_count": 73,
      "outputs": []
    },
    {
      "cell_type": "code",
      "source": [
        "\n",
        "# Assuming you have features X_train and labels Y_train\n",
        "\n",
        "# Split the data into training and testing sets\n",
        "X_train, X_test, Y_train, Y_test = train_test_split(X, Y, test_size=0.2, random_state=42)"
      ],
      "metadata": {
        "id": "4NJzACZXnm6n"
      },
      "execution_count": 74,
      "outputs": []
    },
    {
      "cell_type": "code",
      "source": [
        "\n",
        "# Example: One-hot encoding for categorical features\n",
        "encoder = OneHotEncoder()\n",
        "X_train_encoded = encoder.fit_transform(X_train)"
      ],
      "metadata": {
        "id": "L-bQ7y2vnmr5"
      },
      "execution_count": 75,
      "outputs": []
    },
    {
      "cell_type": "code",
      "source": [
        "# Example: Label encoding for categorical labels\n",
        "label_encoder = LabelEncoder()\n",
        "Y_train_encoded = label_encoder.fit_transform(Y_train)"
      ],
      "metadata": {
        "id": "UIkDGmLqnx5I"
      },
      "execution_count": 76,
      "outputs": []
    },
    {
      "cell_type": "code",
      "source": [
        "# Print the shapes to check for consistency\n",
        "print(\"X_train_encoded shape:\", X_train_encoded.shape)\n",
        "print(\"Y_train_encoded shape:\", Y_train_encoded.shape)"
      ],
      "metadata": {
        "colab": {
          "base_uri": "https://localhost:8080/"
        },
        "id": "gFov9YQdn3EA",
        "outputId": "e48ef2ff-69ed-41e6-f49d-5d6318467fa0"
      },
      "execution_count": 77,
      "outputs": [
        {
          "output_type": "stream",
          "name": "stdout",
          "text": [
            "X_train_encoded shape: (11309, 17794)\n",
            "Y_train_encoded shape: (11309,)\n"
          ]
        }
      ]
    },
    {
      "cell_type": "code",
      "source": [
        "# Example: One-hot encoding for categorical features\n",
        "encoder = OneHotEncoder()\n",
        "X_train_encoded_sparse = encoder.fit_transform(X_train)"
      ],
      "metadata": {
        "id": "HWrhkbmJpHoV"
      },
      "execution_count": 80,
      "outputs": []
    },
    {
      "cell_type": "code",
      "source": [
        "# Convert the sparse matrix to a Pandas DataFrame\n",
        "X_train_encoded = pd.DataFrame(X_train_encoded_sparse.toarray(), columns=encoder.get_feature_names_out(X_train.columns))"
      ],
      "metadata": {
        "id": "X8oMK8i1pPWS"
      },
      "execution_count": 81,
      "outputs": []
    },
    {
      "cell_type": "code",
      "source": [
        "# Example: Label encoding for categorical labels\n",
        "label_encoder = LabelEncoder()\n",
        "Y_train_encoded = label_encoder.fit_transform(Y_train)"
      ],
      "metadata": {
        "id": "PNGa1AN8pO_h"
      },
      "execution_count": 82,
      "outputs": []
    },
    {
      "cell_type": "code",
      "source": [
        "print(X_train.columns)\n"
      ],
      "metadata": {
        "colab": {
          "base_uri": "https://localhost:8080/"
        },
        "id": "L4JzrUm2pO9Z",
        "outputId": "bd059b7c-c2d9-46d0-c33f-068db79efebf"
      },
      "execution_count": 84,
      "outputs": [
        {
          "output_type": "stream",
          "name": "stdout",
          "text": [
            "Index(['Genre', 'Director', 'Actor 1', 'Actor 2', 'Actor 3', 'Votes'], dtype='object')\n"
          ]
        }
      ]
    },
    {
      "cell_type": "code",
      "source": [
        "categorical_columns = ['Genre']  # Add other categorical columns if needed\n",
        "encoder = OneHotEncoder(sparse=False, drop='first', handle_unknown='error', categories='auto')\n",
        "X_train_encoded = encoder.fit_transform(X_train[categorical_columns])\n"
      ],
      "metadata": {
        "colab": {
          "base_uri": "https://localhost:8080/"
        },
        "id": "zC5g74LwqqPh",
        "outputId": "e79cf8d6-1e94-468e-a997-cde01790f72a"
      },
      "execution_count": 87,
      "outputs": [
        {
          "output_type": "stream",
          "name": "stderr",
          "text": [
            "/usr/local/lib/python3.10/dist-packages/sklearn/preprocessing/_encoders.py:868: FutureWarning: `sparse` was renamed to `sparse_output` in version 1.2 and will be removed in 1.4. `sparse_output` is ignored unless you leave `sparse` to its default value.\n",
            "  warnings.warn(\n"
          ]
        }
      ]
    },
    {
      "cell_type": "code",
      "source": [
        "# Example: Label encoding for categorical labels\n",
        "label_encoder = LabelEncoder()\n",
        "Y_train_encoded = label_encoder.fit_transform(Y_train)\n"
      ],
      "metadata": {
        "id": "7Kvm7OAnqpSV"
      },
      "execution_count": 88,
      "outputs": []
    },
    {
      "cell_type": "code",
      "source": [
        "# Print the shapes to check for consistency\n",
        "print(\"X_train_encoded shape:\", X_train_encoded.shape)\n",
        "print(\"Y_train_encoded shape:\", Y_train_encoded.shape)\n"
      ],
      "metadata": {
        "colab": {
          "base_uri": "https://localhost:8080/"
        },
        "id": "Gu-Vhbp4r_hz",
        "outputId": "8b953583-1b75-4351-ebbf-a9bba8d0434d"
      },
      "execution_count": 89,
      "outputs": [
        {
          "output_type": "stream",
          "name": "stdout",
          "text": [
            "X_train_encoded shape: (11309, 418)\n",
            "Y_train_encoded shape: (11309,)\n"
          ]
        }
      ]
    },
    {
      "cell_type": "code",
      "source": [],
      "metadata": {
        "id": "GOCVsGAeuEBo"
      },
      "execution_count": null,
      "outputs": []
    },
    {
      "cell_type": "code",
      "source": [
        "import pandas as pd\n",
        "from sklearn.model_selection import train_test_split\n",
        "from sklearn.preprocessing import LabelEncoder\n",
        "from sklearn.ensemble import RandomForestRegressor\n",
        "\n",
        "# Assuming you have features X_train and labels Y_train\n",
        "\n",
        "# Split the data into training and testing sets\n",
        "X_train, X_test, Y_train, Y_test = train_test_split(X, Y, test_size=0.2, random_state=42)\n",
        "\n",
        "# Identify categorical columns for one-hot encoding\n",
        "categorical_columns = ['Genre']  # Adjust as needed\n",
        "\n",
        "# Label encode categorical columns using LabelEncoder\n",
        "label_encoder = LabelEncoder()\n",
        "for column in categorical_columns:\n",
        "    X_train[column] = label_encoder.fit_transform(X_train[column])\n",
        "\n",
        "# One-hot encode categorical columns using pd.get_dummies()\n",
        "X_train_encoded = pd.get_dummies(X_train, columns=categorical_columns, drop_first=True)\n",
        "\n",
        "# Example: Label encoding for categorical labels\n",
        "label_encoder_y = LabelEncoder()\n",
        "Y_train_encoded = label_encoder_y.fit_transform(Y_train)\n",
        "\n",
        "# Print the shapes to check for consistency\n",
        "print(\"X_train_encoded shape:\", X_train_encoded.shape)\n",
        "print(\"Y_train_encoded shape:\", Y_train_encoded.shape)\n",
        "\n",
        "# Ensure the shapes are aligned\n",
        "if X_train_encoded.shape[0] != Y_train_encoded.shape[0]:\n",
        "    # Perform necessary data adjustments (e.g., rechecking encoding or data splitting)\n",
        "    # ...\n",
        "\n",
        "    # Example: If you want to print a message or perform some action\n",
        "    print(\"Shapes are not aligned. Adjust your data preprocessing steps.\")\n",
        "\n",
        "# Train the model\n",
        "model = RandomForestRegressor()\n",
        "model.fit(X_train_encoded, Y_train_encoded)\n"
      ],
      "metadata": {
        "colab": {
          "base_uri": "https://localhost:8080/",
          "height": 390
        },
        "id": "Y-SJBdyctFjt",
        "outputId": "a1e8134e-0b4f-4704-feb0-b984047a1142"
      },
      "execution_count": 94,
      "outputs": [
        {
          "output_type": "stream",
          "name": "stdout",
          "text": [
            "X_train_encoded shape: (11309, 423)\n",
            "Y_train_encoded shape: (11309,)\n"
          ]
        },
        {
          "output_type": "error",
          "ename": "ValueError",
          "evalue": "ignored",
          "traceback": [
            "\u001b[0;31m---------------------------------------------------------------------------\u001b[0m",
            "\u001b[0;31mValueError\u001b[0m                                Traceback (most recent call last)",
            "\u001b[0;32m<ipython-input-94-fb744c710d7c>\u001b[0m in \u001b[0;36m<cell line: 40>\u001b[0;34m()\u001b[0m\n\u001b[1;32m     38\u001b[0m \u001b[0;31m# Train the model\u001b[0m\u001b[0;34m\u001b[0m\u001b[0;34m\u001b[0m\u001b[0m\n\u001b[1;32m     39\u001b[0m \u001b[0mmodel\u001b[0m \u001b[0;34m=\u001b[0m \u001b[0mRandomForestRegressor\u001b[0m\u001b[0;34m(\u001b[0m\u001b[0;34m)\u001b[0m\u001b[0;34m\u001b[0m\u001b[0;34m\u001b[0m\u001b[0m\n\u001b[0;32m---> 40\u001b[0;31m \u001b[0mmodel\u001b[0m\u001b[0;34m.\u001b[0m\u001b[0mfit\u001b[0m\u001b[0;34m(\u001b[0m\u001b[0mX_train_encoded\u001b[0m\u001b[0;34m,\u001b[0m \u001b[0mY_train_encoded\u001b[0m\u001b[0;34m)\u001b[0m\u001b[0;34m\u001b[0m\u001b[0;34m\u001b[0m\u001b[0m\n\u001b[0m",
            "\u001b[0;32m/usr/local/lib/python3.10/dist-packages/sklearn/ensemble/_forest.py\u001b[0m in \u001b[0;36mfit\u001b[0;34m(self, X, y, sample_weight)\u001b[0m\n\u001b[1;32m    343\u001b[0m         \u001b[0;32mif\u001b[0m \u001b[0missparse\u001b[0m\u001b[0;34m(\u001b[0m\u001b[0my\u001b[0m\u001b[0;34m)\u001b[0m\u001b[0;34m:\u001b[0m\u001b[0;34m\u001b[0m\u001b[0;34m\u001b[0m\u001b[0m\n\u001b[1;32m    344\u001b[0m             \u001b[0;32mraise\u001b[0m \u001b[0mValueError\u001b[0m\u001b[0;34m(\u001b[0m\u001b[0;34m\"sparse multilabel-indicator for y is not supported.\"\u001b[0m\u001b[0;34m)\u001b[0m\u001b[0;34m\u001b[0m\u001b[0;34m\u001b[0m\u001b[0m\n\u001b[0;32m--> 345\u001b[0;31m         X, y = self._validate_data(\n\u001b[0m\u001b[1;32m    346\u001b[0m             \u001b[0mX\u001b[0m\u001b[0;34m,\u001b[0m \u001b[0my\u001b[0m\u001b[0;34m,\u001b[0m \u001b[0mmulti_output\u001b[0m\u001b[0;34m=\u001b[0m\u001b[0;32mTrue\u001b[0m\u001b[0;34m,\u001b[0m \u001b[0maccept_sparse\u001b[0m\u001b[0;34m=\u001b[0m\u001b[0;34m\"csc\"\u001b[0m\u001b[0;34m,\u001b[0m \u001b[0mdtype\u001b[0m\u001b[0;34m=\u001b[0m\u001b[0mDTYPE\u001b[0m\u001b[0;34m\u001b[0m\u001b[0;34m\u001b[0m\u001b[0m\n\u001b[1;32m    347\u001b[0m         )\n",
            "\u001b[0;32m/usr/local/lib/python3.10/dist-packages/sklearn/base.py\u001b[0m in \u001b[0;36m_validate_data\u001b[0;34m(self, X, y, reset, validate_separately, **check_params)\u001b[0m\n\u001b[1;32m    582\u001b[0m                 \u001b[0my\u001b[0m \u001b[0;34m=\u001b[0m \u001b[0mcheck_array\u001b[0m\u001b[0;34m(\u001b[0m\u001b[0my\u001b[0m\u001b[0;34m,\u001b[0m \u001b[0minput_name\u001b[0m\u001b[0;34m=\u001b[0m\u001b[0;34m\"y\"\u001b[0m\u001b[0;34m,\u001b[0m \u001b[0;34m**\u001b[0m\u001b[0mcheck_y_params\u001b[0m\u001b[0;34m)\u001b[0m\u001b[0;34m\u001b[0m\u001b[0;34m\u001b[0m\u001b[0m\n\u001b[1;32m    583\u001b[0m             \u001b[0;32melse\u001b[0m\u001b[0;34m:\u001b[0m\u001b[0;34m\u001b[0m\u001b[0;34m\u001b[0m\u001b[0m\n\u001b[0;32m--> 584\u001b[0;31m                 \u001b[0mX\u001b[0m\u001b[0;34m,\u001b[0m \u001b[0my\u001b[0m \u001b[0;34m=\u001b[0m \u001b[0mcheck_X_y\u001b[0m\u001b[0;34m(\u001b[0m\u001b[0mX\u001b[0m\u001b[0;34m,\u001b[0m \u001b[0my\u001b[0m\u001b[0;34m,\u001b[0m \u001b[0;34m**\u001b[0m\u001b[0mcheck_params\u001b[0m\u001b[0;34m)\u001b[0m\u001b[0;34m\u001b[0m\u001b[0;34m\u001b[0m\u001b[0m\n\u001b[0m\u001b[1;32m    585\u001b[0m             \u001b[0mout\u001b[0m \u001b[0;34m=\u001b[0m \u001b[0mX\u001b[0m\u001b[0;34m,\u001b[0m \u001b[0my\u001b[0m\u001b[0;34m\u001b[0m\u001b[0;34m\u001b[0m\u001b[0m\n\u001b[1;32m    586\u001b[0m \u001b[0;34m\u001b[0m\u001b[0m\n",
            "\u001b[0;32m/usr/local/lib/python3.10/dist-packages/sklearn/utils/validation.py\u001b[0m in \u001b[0;36mcheck_X_y\u001b[0;34m(X, y, accept_sparse, accept_large_sparse, dtype, order, copy, force_all_finite, ensure_2d, allow_nd, multi_output, ensure_min_samples, ensure_min_features, y_numeric, estimator)\u001b[0m\n\u001b[1;32m   1104\u001b[0m         )\n\u001b[1;32m   1105\u001b[0m \u001b[0;34m\u001b[0m\u001b[0m\n\u001b[0;32m-> 1106\u001b[0;31m     X = check_array(\n\u001b[0m\u001b[1;32m   1107\u001b[0m         \u001b[0mX\u001b[0m\u001b[0;34m,\u001b[0m\u001b[0;34m\u001b[0m\u001b[0;34m\u001b[0m\u001b[0m\n\u001b[1;32m   1108\u001b[0m         \u001b[0maccept_sparse\u001b[0m\u001b[0;34m=\u001b[0m\u001b[0maccept_sparse\u001b[0m\u001b[0;34m,\u001b[0m\u001b[0;34m\u001b[0m\u001b[0;34m\u001b[0m\u001b[0m\n",
            "\u001b[0;32m/usr/local/lib/python3.10/dist-packages/sklearn/utils/validation.py\u001b[0m in \u001b[0;36mcheck_array\u001b[0;34m(array, accept_sparse, accept_large_sparse, dtype, order, copy, force_all_finite, ensure_2d, allow_nd, ensure_min_samples, ensure_min_features, estimator, input_name)\u001b[0m\n\u001b[1;32m    877\u001b[0m                     \u001b[0marray\u001b[0m \u001b[0;34m=\u001b[0m \u001b[0mxp\u001b[0m\u001b[0;34m.\u001b[0m\u001b[0mastype\u001b[0m\u001b[0;34m(\u001b[0m\u001b[0marray\u001b[0m\u001b[0;34m,\u001b[0m \u001b[0mdtype\u001b[0m\u001b[0;34m,\u001b[0m \u001b[0mcopy\u001b[0m\u001b[0;34m=\u001b[0m\u001b[0;32mFalse\u001b[0m\u001b[0;34m)\u001b[0m\u001b[0;34m\u001b[0m\u001b[0;34m\u001b[0m\u001b[0m\n\u001b[1;32m    878\u001b[0m                 \u001b[0;32melse\u001b[0m\u001b[0;34m:\u001b[0m\u001b[0;34m\u001b[0m\u001b[0;34m\u001b[0m\u001b[0m\n\u001b[0;32m--> 879\u001b[0;31m                     \u001b[0marray\u001b[0m \u001b[0;34m=\u001b[0m \u001b[0m_asarray_with_order\u001b[0m\u001b[0;34m(\u001b[0m\u001b[0marray\u001b[0m\u001b[0;34m,\u001b[0m \u001b[0morder\u001b[0m\u001b[0;34m=\u001b[0m\u001b[0morder\u001b[0m\u001b[0;34m,\u001b[0m \u001b[0mdtype\u001b[0m\u001b[0;34m=\u001b[0m\u001b[0mdtype\u001b[0m\u001b[0;34m,\u001b[0m \u001b[0mxp\u001b[0m\u001b[0;34m=\u001b[0m\u001b[0mxp\u001b[0m\u001b[0;34m)\u001b[0m\u001b[0;34m\u001b[0m\u001b[0;34m\u001b[0m\u001b[0m\n\u001b[0m\u001b[1;32m    880\u001b[0m             \u001b[0;32mexcept\u001b[0m \u001b[0mComplexWarning\u001b[0m \u001b[0;32mas\u001b[0m \u001b[0mcomplex_warning\u001b[0m\u001b[0;34m:\u001b[0m\u001b[0;34m\u001b[0m\u001b[0;34m\u001b[0m\u001b[0m\n\u001b[1;32m    881\u001b[0m                 raise ValueError(\n",
            "\u001b[0;32m/usr/local/lib/python3.10/dist-packages/sklearn/utils/_array_api.py\u001b[0m in \u001b[0;36m_asarray_with_order\u001b[0;34m(array, dtype, order, copy, xp)\u001b[0m\n\u001b[1;32m    183\u001b[0m     \u001b[0;32mif\u001b[0m \u001b[0mxp\u001b[0m\u001b[0;34m.\u001b[0m\u001b[0m__name__\u001b[0m \u001b[0;32min\u001b[0m \u001b[0;34m{\u001b[0m\u001b[0;34m\"numpy\"\u001b[0m\u001b[0;34m,\u001b[0m \u001b[0;34m\"numpy.array_api\"\u001b[0m\u001b[0;34m}\u001b[0m\u001b[0;34m:\u001b[0m\u001b[0;34m\u001b[0m\u001b[0;34m\u001b[0m\u001b[0m\n\u001b[1;32m    184\u001b[0m         \u001b[0;31m# Use NumPy API to support order\u001b[0m\u001b[0;34m\u001b[0m\u001b[0;34m\u001b[0m\u001b[0m\n\u001b[0;32m--> 185\u001b[0;31m         \u001b[0marray\u001b[0m \u001b[0;34m=\u001b[0m \u001b[0mnumpy\u001b[0m\u001b[0;34m.\u001b[0m\u001b[0masarray\u001b[0m\u001b[0;34m(\u001b[0m\u001b[0marray\u001b[0m\u001b[0;34m,\u001b[0m \u001b[0morder\u001b[0m\u001b[0;34m=\u001b[0m\u001b[0morder\u001b[0m\u001b[0;34m,\u001b[0m \u001b[0mdtype\u001b[0m\u001b[0;34m=\u001b[0m\u001b[0mdtype\u001b[0m\u001b[0;34m)\u001b[0m\u001b[0;34m\u001b[0m\u001b[0;34m\u001b[0m\u001b[0m\n\u001b[0m\u001b[1;32m    186\u001b[0m         \u001b[0;32mreturn\u001b[0m \u001b[0mxp\u001b[0m\u001b[0;34m.\u001b[0m\u001b[0masarray\u001b[0m\u001b[0;34m(\u001b[0m\u001b[0marray\u001b[0m\u001b[0;34m,\u001b[0m \u001b[0mcopy\u001b[0m\u001b[0;34m=\u001b[0m\u001b[0mcopy\u001b[0m\u001b[0;34m)\u001b[0m\u001b[0;34m\u001b[0m\u001b[0;34m\u001b[0m\u001b[0m\n\u001b[1;32m    187\u001b[0m     \u001b[0;32melse\u001b[0m\u001b[0;34m:\u001b[0m\u001b[0;34m\u001b[0m\u001b[0;34m\u001b[0m\u001b[0m\n",
            "\u001b[0;32m/usr/local/lib/python3.10/dist-packages/pandas/core/generic.py\u001b[0m in \u001b[0;36m__array__\u001b[0;34m(self, dtype)\u001b[0m\n\u001b[1;32m   2068\u001b[0m \u001b[0;34m\u001b[0m\u001b[0m\n\u001b[1;32m   2069\u001b[0m     \u001b[0;32mdef\u001b[0m \u001b[0m__array__\u001b[0m\u001b[0;34m(\u001b[0m\u001b[0mself\u001b[0m\u001b[0;34m,\u001b[0m \u001b[0mdtype\u001b[0m\u001b[0;34m:\u001b[0m \u001b[0mnpt\u001b[0m\u001b[0;34m.\u001b[0m\u001b[0mDTypeLike\u001b[0m \u001b[0;34m|\u001b[0m \u001b[0;32mNone\u001b[0m \u001b[0;34m=\u001b[0m \u001b[0;32mNone\u001b[0m\u001b[0;34m)\u001b[0m \u001b[0;34m->\u001b[0m \u001b[0mnp\u001b[0m\u001b[0;34m.\u001b[0m\u001b[0mndarray\u001b[0m\u001b[0;34m:\u001b[0m\u001b[0;34m\u001b[0m\u001b[0;34m\u001b[0m\u001b[0m\n\u001b[0;32m-> 2070\u001b[0;31m         \u001b[0;32mreturn\u001b[0m \u001b[0mnp\u001b[0m\u001b[0;34m.\u001b[0m\u001b[0masarray\u001b[0m\u001b[0;34m(\u001b[0m\u001b[0mself\u001b[0m\u001b[0;34m.\u001b[0m\u001b[0m_values\u001b[0m\u001b[0;34m,\u001b[0m \u001b[0mdtype\u001b[0m\u001b[0;34m=\u001b[0m\u001b[0mdtype\u001b[0m\u001b[0;34m)\u001b[0m\u001b[0;34m\u001b[0m\u001b[0;34m\u001b[0m\u001b[0m\n\u001b[0m\u001b[1;32m   2071\u001b[0m \u001b[0;34m\u001b[0m\u001b[0m\n\u001b[1;32m   2072\u001b[0m     def __array_wrap__(\n",
            "\u001b[0;31mValueError\u001b[0m: could not convert string to float: 'Maruti'"
          ]
        }
      ]
    },
    {
      "cell_type": "code",
      "source": [],
      "metadata": {
        "id": "S2YM3UUPma0C"
      },
      "execution_count": null,
      "outputs": []
    },
    {
      "cell_type": "code",
      "source": [],
      "metadata": {
        "id": "OjV8mXwmmarU"
      },
      "execution_count": null,
      "outputs": []
    },
    {
      "cell_type": "code",
      "source": [],
      "metadata": {
        "id": "wSxoAC4dmakd"
      },
      "execution_count": null,
      "outputs": []
    },
    {
      "cell_type": "code",
      "source": [],
      "metadata": {
        "id": "tlIWz2O-mY1k"
      },
      "execution_count": null,
      "outputs": []
    },
    {
      "cell_type": "code",
      "source": [],
      "metadata": {
        "id": "zn3pY45ImYtO"
      },
      "execution_count": null,
      "outputs": []
    }
  ]
}